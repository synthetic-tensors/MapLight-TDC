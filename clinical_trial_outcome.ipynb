{
 "cells": [
  {
   "cell_type": "code",
   "execution_count": null,
   "metadata": {},
   "outputs": [],
   "source": [
    "from sklearn.metrics import average_precision_score, roc_auc_score, mean_absolute_error, balanced_accuracy_score\n",
    "from scipy.stats import spearmanr\n",
    "#Quick function to replace the native TDC one for tox data\n",
    "def evaluate_many(predictions_list):\n",
    "    metric = []\n",
    "    for x in predictions_list:\n",
    "        for k,v in x.items():\n",
    "            metric.append(average_precision_score(tox_data[k]['test'].Y, v))\n",
    "    return {k:sum(metric)/float(len(metric))}\n",
    "def evaluate_aupr(true,pred):\n",
    "    return average_precision_score(true,pred)\n",
    "def evaluate_auroc(true,pred):\n",
    "    return roc_auc_score(true,pred)\n",
    "def evaluate_ba(true,pred):\n",
    "    return balanced_accuracy_score(true,pred)\n",
    "def evaluate_mae(true,pred):\n",
    "    return mean_absolute_error(true,pred)\n",
    "def evaluate_spearman(true,pred):\n",
    "    return spearmanr(true,pred)"
   ]
  },
  {
   "cell_type": "code",
   "execution_count": null,
   "metadata": {},
   "outputs": [],
   "source": [
    "from tqdm import tqdm\n",
    "import catboost as cb"
   ]
  },
  {
   "cell_type": "code",
   "execution_count": null,
   "metadata": {},
   "outputs": [],
   "source": [
    "import pandas as pd\n",
    "import numpy as np\n",
    "from tabulate import tabulate\n",
    "\n",
    "df = pd.DataFrame.from_dict(metrics)#, orient='index')\n",
    "df.spearman = df['spearman'].apply(lambda x: x.statistic if not isinstance(x, float) else x)\n",
    "# Generate HTML table string using tabulate\n",
    "html_table = tabulate(df[['mae','spearman']].dropna(), headers='keys', tablefmt=\"github\")#, tablefmt='html')\n",
    "print(html_table)\n",
    "html_table = tabulate(df[['aupr','auroc','balacc','optimal_th']].dropna(), headers='keys', tablefmt=\"github\")#, tablefmt='html')\n",
    "print(html_table)\n",
    "df.to_csv('data/metrics.csv')"
   ]
  },
  {
   "cell_type": "code",
   "execution_count": null,
   "metadata": {},
   "outputs": [],
   "source": [
    "#Get the chemicals to predict for each phase and refactor the dataframe to run inference\n",
    "import pandas as pd\n",
    "df_d={}\n",
    "for k in ['passed_phase_1','passed_phase_2','passed_phase_3']:\n",
    "    df_d[k] = pd.read_csv(f'./alladmet/NB_Pred_data_{k}.csv')\n",
    "df_inf_d={}\n",
    "for k in df_d:\n",
    "    df_inf_d[k]=pd.DataFrame()\n",
    "    df_inf_d[k]['Drug_ID'] = df_d[k].smiles.unique()\n",
    "    df_inf_d[k]['Drug'] = df_d[k].smiles.unique()\n",
    "    df_inf_d[k]['Y'] = 0"
   ]
  },
  {
   "cell_type": "code",
   "execution_count": null,
   "metadata": {},
   "outputs": [],
   "source": [
    "# Infer\n",
    "from collections import defaultdict\n",
    "from maplight_gnn import get_fingerprints\n",
    "import os\n",
    "benchmark_config = {\n",
    "    'caco2_wang': ('regression', False),\n",
    "    'bioavailability_ma': ('binary', False),\n",
    "    'lipophilicity_astrazeneca': ('regression', False),\n",
    "    'solubility_aqsoldb': ('regression', False),\n",
    "    'hia_hou': ('binary', False),\n",
    "    'pgp_broccatelli': ('binary', False),\n",
    "    'bbb_martins': ('binary', False),\n",
    "    'ppbr_az': ('regression', False),\n",
    "    'vdss_lombardo': ('regression', True),\n",
    "    'cyp2c9_veith': ('binary', False),\n",
    "    'cyp2d6_veith': ('binary', False),\n",
    "    'cyp3a4_veith': ('binary', False),\n",
    "    'cyp2c9_substrate_carbonmangels': ('binary', False),\n",
    "    'cyp2d6_substrate_carbonmangels': ('binary', False),\n",
    "    'cyp3a4_substrate_carbonmangels': ('binary', False),\n",
    "    'half_life_obach': ('regression', True),\n",
    "    'clearance_hepatocyte_az': ('regression', True),\n",
    "    'clearance_microsome_az': ('regression', True),\n",
    "    'ld50_zhu': ('regression', False),\n",
    "    'herg': ('binary', False),\n",
    "    'ames': ('binary', False),\n",
    "    'dili': ('binary', False)\n",
    "}\n",
    "predictions = defaultdict(dict)\n",
    "for k,v in df_inf_d.items():\n",
    "    print(k)\n",
    "    test = v\n",
    "    seed = 5\n",
    "    X_test = get_fingerprints(test['Drug'])\n",
    "    for name,admet_benchmark in benchmark_config.items():\n",
    "        task = admet_benchmark[0]\n",
    "        print(name)\n",
    "        params = {\n",
    "                'random_strength': 2, \n",
    "                'random_seed': seed,\n",
    "                'verbose': 0,\n",
    "            }\n",
    "        if task == 'regression':\n",
    "            params['loss_function'] = 'MAE'            \n",
    "            model = cb.CatBoostRegressor(**params)\n",
    "            model.load_model(os.path.join('saved_weights',f\"{name}\"))\n",
    "            y_pred_test = model.predict(X_test)\n",
    "            print(y_pred_test)\n",
    "        elif task == 'binary':\n",
    "            params['loss_function'] = 'Logloss'\n",
    "            model = cb.CatBoostClassifier(**params)\n",
    "            model.load_model(os.path.join('saved_weights',f\"{name}\"))\n",
    "            y_pred_test = model.predict_proba(X_test)[:, 1]\n",
    "        predictions[k][name] = y_pred_test"
   ]
  },
  {
   "cell_type": "code",
   "execution_count": null,
   "metadata": {
    "scrolled": true
   },
   "outputs": [],
   "source": [
    "from sklearn.preprocessing import OneHotEncoder\n",
    "ohe = OneHotEncoder(sparse_output=False).fit(X)\n",
    "ohe.transform()"
   ]
  },
  {
   "cell_type": "markdown",
   "metadata": {},
   "source": [
    "# New data factoring"
   ]
  },
  {
   "cell_type": "code",
   "execution_count": 173,
   "metadata": {
    "scrolled": true
   },
   "outputs": [
    {
     "name": "stdout",
     "output_type": "stream",
     "text": [
      "       therapeutic_area      chembl             smiles passed_phase_1  \\\n",
      "count             33347       33347              33347          33347   \n",
      "unique               84        2901               2901              2   \n",
      "top         EFO_0000651  CHEMBL1431  CN(C)C(=N)NC(=N)N           True   \n",
      "freq               1138         133                133          31022   \n",
      "\n",
      "       passed_phase_2 passed_phase_3  \n",
      "count           33347          33347  \n",
      "unique              4              4  \n",
      "top             False          False  \n",
      "freq            18442          19413  \n"
     ]
    }
   ],
   "source": [
    "df=pd.read_csv('data/clinical_trials/therapeutic_areas_clinical_trials_with_synthetic_negatives.csv')\n",
    "print(df.describe())\n",
    "df['passed_phase_1']=df['passed_phase_1'].astype(str)"
   ]
  },
  {
   "cell_type": "code",
   "execution_count": 166,
   "metadata": {},
   "outputs": [
    {
     "data": {
      "text/plain": [
       "<Axes: >"
      ]
     },
     "execution_count": 166,
     "metadata": {},
     "output_type": "execute_result"
    },
    {
     "data": {
      "image/png": "[encoded data removed]",
      "text/plain": [
       "<Figure size 640x480 with 1 Axes>"
      ]
     },
     "metadata": {},
     "output_type": "display_data"
    }
   ],
   "source": [
    "df[df.passed_phase_1=='True'].smiles.value_counts().hist()\n",
    "df[df.passed_phase_1=='False'].smiles.value_counts().hist()"
   ]
  },
  {
   "cell_type": "code",
   "execution_count": 180,
   "metadata": {},
   "outputs": [],
   "source": [
    "df=df.sample(frac=1).sort_values(by='smiles')"
   ]
  },
  {
   "cell_type": "code",
   "execution_count": 181,
   "metadata": {},
   "outputs": [],
   "source": [
    "df_d = {k: df[['therapeutic_area','smiles',k]][df[k].isin(['True','False'])] for k in ['passed_phase_1','passed_phase_2','passed_phase_3']}\n",
    "df_xx_d = {k:get_fingerprints(df_d[k].smiles) for k in df_d.keys()}"
   ]
  },
  {
   "cell_type": "code",
   "execution_count": 182,
   "metadata": {},
   "outputs": [],
   "source": [
    "df_xx_d = {k:pd.DataFrame(df_xx_d[k]) for k in df_xx_d.keys()}\n",
    "for k,v in df_xx_d.items():\n",
    "    v.to_csv(f'{k}_fingerprints.csv')\n",
    "#df_xx_d = {k:pd.read_csv(f'{k}_fingerprints.csv') for k in df_d.keys()}"
   ]
  },
  {
   "cell_type": "code",
   "execution_count": 183,
   "metadata": {},
   "outputs": [],
   "source": [
    "df_xx_d = {k:v.fillna(0).assign(therapeutic_area=df_d[k].therapeutic_area) for k,v in df_xx_d.items()}"
   ]
  },
  {
   "cell_type": "code",
   "execution_count": 184,
   "metadata": {},
   "outputs": [],
   "source": [
    "for k,v in df_xx_d.items():\n",
    "    df_xx_d[k]=v.fillna('unknown')"
   ]
  },
  {
   "cell_type": "code",
   "execution_count": 185,
   "metadata": {},
   "outputs": [
    {
     "name": "stdout",
     "output_type": "stream",
     "text": [
      "0\n",
      "0\n",
      "0\n",
      "0\n",
      "0\n",
      "0\n"
     ]
    }
   ],
   "source": [
    "for v in df_xx_d.values():\n",
    "    print((v==b'unknown').any().sum())\n",
    "for v in df_yy_d.values():\n",
    "    print((v=='unknown').any().sum())"
   ]
  },
  {
   "cell_type": "code",
   "execution_count": 186,
   "metadata": {},
   "outputs": [],
   "source": [
    "df_yy_d = {k: df_d[k][k].map({'True':1,'False':0}).astype(int) for k in df_d.keys()}"
   ]
  },
  {
   "cell_type": "code",
   "execution_count": 187,
   "metadata": {},
   "outputs": [
    {
     "name": "stdout",
     "output_type": "stream",
     "text": [
      "count    33347.000000\n",
      "mean         0.930279\n",
      "std          0.254681\n",
      "min          0.000000\n",
      "25%          1.000000\n",
      "50%          1.000000\n",
      "75%          1.000000\n",
      "max          1.000000\n",
      "Name: passed_phase_1, dtype: float64\n",
      "count    27774.000000\n",
      "mean         0.335998\n",
      "std          0.472347\n",
      "min          0.000000\n",
      "25%          0.000000\n",
      "50%          0.000000\n",
      "75%          1.000000\n",
      "max          1.000000\n",
      "Name: passed_phase_2, dtype: float64\n",
      "count    24666.000000\n",
      "mean         0.212965\n",
      "std          0.409412\n",
      "min          0.000000\n",
      "25%          0.000000\n",
      "50%          0.000000\n",
      "75%          0.000000\n",
      "max          1.000000\n",
      "Name: passed_phase_3, dtype: float64\n"
     ]
    }
   ],
   "source": [
    "for v in df_yy_d.values():\n",
    "    print(v.describe())"
   ]
  },
  {
   "cell_type": "code",
   "execution_count": null,
   "metadata": {},
   "outputs": [],
   "source": []
  },
  {
   "cell_type": "code",
   "execution_count": null,
   "metadata": {},
   "outputs": [
    {
     "name": "stdout",
     "output_type": "stream",
     "text": [
      "-----------------\n",
      "passed_phase_1\n",
      "-----------------\n"
     ]
    }
   ],
   "source": [
    "from sklearn.model_selection import train_test_split, KFold\n",
    "from sklearn.naive_bayes import GaussianNB\n",
    "from sklearn.linear_model import LogisticRegression\n",
    "from sklearn.metrics import average_precision_score, roc_auc_score, f1_score\n",
    "from sklearn.metrics import ConfusionMatrixDisplay\n",
    "import catboost as cb\n",
    "import matplotlib.pyplot as plt\n",
    "for k in df_d.keys():\n",
    "    print(f\"-----------------\")\n",
    "    print(k)\n",
    "    print(f\"-----------------\")\n",
    "\n",
    "    kf = KFold(n_splits=5)#, random_state=42, shuffle=False)\n",
    "    scores = defaultdict(list)\n",
    "    for i, (train_index, test_index) in enumerate(kf.split(df_xx_d[k])):\n",
    "        #print(f\"Fold {i}:\")\n",
    "        #df_xx_d[k].columns = df_xx_d[k].columns.astype(str)\n",
    "        X_train, X_test, y_train, y_test = (df_xx_d[k].iloc[train_index],\n",
    "                                            df_xx_d[k].iloc[test_index],\n",
    "                                            df_yy_d[k].iloc[train_index],\n",
    "                                            df_yy_d[k].iloc[test_index])\n",
    "        #X_train, X_test, y_train, y_test = train_test_split(df_xx_d[k], df_yy_d[k], test_size=0.1, random_state=r)\n",
    "        #print(y_train.sum()/len(y_train))\n",
    "        #gnb = GaussianNB()\n",
    "        #s_weights = [c_weight[k] if x == 1 else 1.0 for x in y_train ]\n",
    "        #gnb = LogisticRegression()\n",
    "        #y_pred = gnb.fit(X_train, y_train, sample_weight=s_weights).predict(X_test)\n",
    "        gnb = cb.CatBoostClassifier(loss_function = 'Logloss', \n",
    "                                    simple_ctr='Counter',\n",
    "                                    combinations_ctr='Counter',\n",
    "                                    cat_features=['therapeutic_area'],\n",
    "                                    #class_weights=[1.0,c_weight[k]],\n",
    "                                    verbose=0)\n",
    "        y_pred = gnb.fit(X_train, y_train).predict(X_test)\n",
    "        \"\"\"\n",
    "        print('---------')\n",
    "        print(\"Number of mislabeled points out of a total %d points : %d\"\n",
    "              % (X_test.shape[0], (y_test != y_pred).sum()))\n",
    "        print(f\"{gnb.score(X_test,y_test)=}\")\n",
    "        print(f\"{average_precision_score(y_test, y_pred)=}\")\n",
    "        print(f\"{roc_auc_score(y_test,y_pred)=}\")\n",
    "        print(f\"{f1_score(y_test,y_pred)=}\")\n",
    "        \"\"\"\n",
    "        scores['loss'].append(gnb.score(X_test,y_test))\n",
    "        scores['ap'].append(average_precision_score(y_test, y_pred))\n",
    "        scores['roc'].append(roc_auc_score(y_test,y_pred))\n",
    "        scores['f1'].append(f1_score(y_test,y_pred))\n",
    "        # = plt.subplots()\n",
    "        #ConfusionMatrixDisplay.from_estimator(gnb, X_test, y_test)\n",
    "        #plt.show()\n",
    "    for k,v in scores.items():\n",
    "        print(f\"{k}:{sum(v)/len(v)}\")"
   ]
  },
  {
   "cell_type": "markdown",
   "metadata": {},
   "source": [
    "# Old data tests"
   ]
  },
  {
   "cell_type": "code",
   "execution_count": null,
   "metadata": {},
   "outputs": [],
   "source": [
    "#Load data with smiles and passed or not\n",
    "import pandas as pd\n",
    "df_d={}\n",
    "for k in ['passed_phase_1','passed_phase_2','passed_phase_3']:\n",
    "    df_d[k] = pd.read_csv(f'./alladmet/NB_Pred_data_{k}.csv')\n",
    "df_d"
   ]
  },
  {
   "cell_type": "code",
   "execution_count": null,
   "metadata": {},
   "outputs": [],
   "source": [
    "X = defaultdict(lambda: pd.DataFrame())\n",
    "for k,v in predictions.items():\n",
    "    for name,arr in v.items():\n",
    "        X[k][name] = arr\n",
    "predictions"
   ]
  },
  {
   "cell_type": "code",
   "execution_count": null,
   "metadata": {},
   "outputs": [],
   "source": [
    "X = {k:pd.concat([df_inf_d[k],v],axis=1).rename(columns={'Drug':'smiles'}) for k,v in X.items()}\n",
    "for k,v in X.items():\n",
    "    v.to_csv(f'predictions_{k}.csv')"
   ]
  },
  {
   "cell_type": "code",
   "execution_count": null,
   "metadata": {},
   "outputs": [],
   "source": [
    "X"
   ]
  },
  {
   "cell_type": "code",
   "execution_count": null,
   "metadata": {},
   "outputs": [],
   "source": [
    "#X=X.rename(columns={'Drug':'smiles'}) #.drop(columns='Y')\n",
    "df_d_ = {k:v.join(X[k].set_index('smiles'), on='smiles') for k,v in df_d.items()} #.drop(columns=['Drug_ID','Y'])\n",
    "for k in df_d_:\n",
    "    #df_d[k]['Y'] = (df_d[k].y == 'Failed').astype(int)\n",
    "    #df_d_[k]\n",
    "    df_d_[k]=df_d_[k][df_d_[k].y != \"Not tested\"]\n",
    "    df_d_[k]['Y'] = df_d_[k]['y'].isin([False,'False']).astype(int)\n",
    "    #df_d_[k].rename(columns={'y':'Y'})\n",
    "#df"
   ]
  },
  {
   "cell_type": "code",
   "execution_count": null,
   "metadata": {},
   "outputs": [],
   "source": [
    "#NOT NEEDED WITH CATBOOST!!! IT OHEs itself\n",
    "from sklearn.preprocessing import OneHotEncoder\n",
    "# data is a Pandas DataFrame\n",
    "data={}\n",
    "for k,v in df_d_.items():\n",
    "    jobs_encoder = OneHotEncoder(sparse=False)\n",
    "    jobs_encoder.fit(v['indication'].unique().reshape(-1, 1))\n",
    "    transformed = jobs_encoder.transform(v['indication'].to_numpy().reshape(-1,1))\n",
    "    #Create a Pandas DataFrame of the hot encoded column\n",
    "    ohe_df = pd.DataFrame(transformed, columns=jobs_encoder.get_feature_names_out())\n",
    "    #concat with original data\n",
    "    print(v.shape)\n",
    "    print(ohe_df.shape)\n",
    "    data[k] = pd.concat([v.reset_index(), ohe_df], axis=1)#.drop(columns=['smiles', 'Unnamed: 0',k, 'indication','Drug_ID'])\n",
    "    #data.to_csv('all_w_ohe.csv')"
   ]
  },
  {
   "cell_type": "code",
   "execution_count": null,
   "metadata": {},
   "outputs": [],
   "source": [
    "#data['passed_phase_1'].columns"
   ]
  },
  {
   "cell_type": "code",
   "execution_count": null,
   "metadata": {},
   "outputs": [],
   "source": [
    "X, y = data.drop(columns='Y').to_numpy(), data.Y.to_numpy()"
   ]
  },
  {
   "cell_type": "code",
   "execution_count": null,
   "metadata": {},
   "outputs": [],
   "source": [
    "df_in = df_d_\n",
    "drop = ['Unnamed: 0', 'Drug_ID','y']\n",
    "#df_in = data\n",
    "#drop = ['Unnamed: 0', 'Drug_ID','y','index','indication','smiles']\n",
    "df_in = {k:v.sample(frac=1).reset_index(drop=True) for k,v in df_in.items()}\n",
    "df_xy_d = {k: v.drop(columns=drop) for k,v in df_in.items()}\n",
    "df_xx_d = {k: v.drop(columns='Y') for k,v in df_xy_d.items()}\n",
    "df_yy_d = {k: v.Y for k,v in df_xy_d.items()}\n",
    "#X_test_d = {k: get_fingerprints(v['smiles']) for k,v in df_xx_d.items()}"
   ]
  },
  {
   "cell_type": "code",
   "execution_count": null,
   "metadata": {
    "scrolled": true
   },
   "outputs": [],
   "source": [
    "df_xx_d = {k: pd.concat([v.reset_index(drop=True),pd.DataFrame(X_test_d[k])],axis=1).drop('smiles',axis=1) for k,v in df_xx_d.items()}\n",
    "#df_xx_d={k:v.drop(columns='index') for k,v in df_xx_d.items()}"
   ]
  },
  {
   "cell_type": "code",
   "execution_count": null,
   "metadata": {},
   "outputs": [],
   "source": [
    "df_xx_d"
   ]
  },
  {
   "cell_type": "code",
   "execution_count": null,
   "metadata": {},
   "outputs": [],
   "source": [
    "c_weight = {k: len(v)/sum(v) for k,v in df_yy_d.items()}\n",
    "c_weight"
   ]
  },
  {
   "cell_type": "code",
   "execution_count": null,
   "metadata": {},
   "outputs": [],
   "source": [
    "df_xx_d = {k:v.drop(columns=v.columns[1:]) for k,v in df_xx_d.items()}"
   ]
  },
  {
   "cell_type": "code",
   "execution_count": null,
   "metadata": {},
   "outputs": [],
   "source": [
    "from sklearn.model_selection import train_test_split, KFold\n",
    "from sklearn.naive_bayes import GaussianNB\n",
    "from sklearn.linear_model import LogisticRegression\n",
    "from sklearn.metrics import average_precision_score, roc_auc_score, f1_score\n",
    "from sklearn.metrics import ConfusionMatrixDisplay\n",
    "\n",
    "import matplotlib.pyplot as plt\n",
    "for k in df_d_.keys():\n",
    "    print(f\"-----------------\")\n",
    "    print(k)\n",
    "    print(f\"-----------------\")\n",
    "\n",
    "    kf = KFold(n_splits=5, random_state=42, shuffle=True)\n",
    "    scores = defaultdict(list)\n",
    "    for i, (train_index, test_index) in enumerate(kf.split(df_xx_d[k])):\n",
    "        #print(f\"Fold {i}:\")\n",
    "        #df_xx_d[k].columns = df_xx_d[k].columns.astype(str)\n",
    "        X_train, X_test, y_train, y_test = (df_xx_d[k].iloc[train_index],\n",
    "                                            df_xx_d[k].iloc[test_index],\n",
    "                                            df_yy_d[k].iloc[train_index],\n",
    "                                            df_yy_d[k].iloc[test_index])\n",
    "        #X_train, X_test, y_train, y_test = train_test_split(df_xx_d[k], df_yy_d[k], test_size=0.1, random_state=r)\n",
    "        #print(y_train.sum()/len(y_train))\n",
    "        #gnb = GaussianNB()\n",
    "        #s_weights = [c_weight[k] if x == 1 else 1.0 for x in y_train ]\n",
    "        #gnb = LogisticRegression()\n",
    "        #y_pred = gnb.fit(X_train, y_train, sample_weight=s_weights).predict(X_test)\n",
    "        gnb = cb.CatBoostClassifier(loss_function = 'Logloss', \n",
    "                                    simple_ctr='Counter',\n",
    "                                    combinations_ctr='Counter',\n",
    "                                    cat_features=['indication'],\n",
    "                                    class_weights=[1.0,c_weight[k]],\n",
    "                                    verbose=0)\n",
    "        y_pred = gnb.fit(X_train, y_train).predict(X_test)\n",
    "        \"\"\"\n",
    "        print('---------')\n",
    "        print(\"Number of mislabeled points out of a total %d points : %d\"\n",
    "              % (X_test.shape[0], (y_test != y_pred).sum()))\n",
    "        print(f\"{gnb.score(X_test,y_test)=}\")\n",
    "        print(f\"{average_precision_score(y_test, y_pred)=}\")\n",
    "        print(f\"{roc_auc_score(y_test,y_pred)=}\")\n",
    "        print(f\"{f1_score(y_test,y_pred)=}\")\n",
    "        \"\"\"\n",
    "        scores['loss'].append(gnb.score(X_test,y_test))\n",
    "        scores['ap'].append(average_precision_score(y_test, y_pred))\n",
    "        scores['roc'].append(roc_auc_score(y_test,y_pred))\n",
    "        scores['f1'].append(f1_score(y_test,y_pred))\n",
    "        # = plt.subplots()\n",
    "        #ConfusionMatrixDisplay.from_estimator(gnb, X_test, y_test)\n",
    "        #plt.show()\n",
    "    for k,v in scores.items():\n",
    "        print(f\"{k}:{sum(v)/len(v)}\")"
   ]
  },
  {
   "cell_type": "code",
   "execution_count": null,
   "metadata": {},
   "outputs": [],
   "source": [
    "df_xx_d = {k:v.reset_index(drop=True) for k,v in df_xx_d.items()}"
   ]
  },
  {
   "cell_type": "code",
   "execution_count": null,
   "metadata": {},
   "outputs": [],
   "source": [
    "from sklearn.model_selection import train_test_split\n",
    "from sklearn.naive_bayes import GaussianNB\n",
    "from sklearn.linear_model import LogisticRegression\n",
    "from sklearn.metrics import average_precision_score, roc_auc_score, f1_score\n",
    "from sklearn.metrics import ConfusionMatrixDisplay\n",
    "from sklearn.model_selection import GridSearchCV\n",
    "\n",
    "parameters = {'depth' : [6,7,8,12],\n",
    "              'learning_rate' : [0.1,.15,.2],\n",
    "              'iterations'    : [80,90,100,120,140],\n",
    "              }\n",
    "grid = {}\n",
    "for k,v in df_xx_d.items():\n",
    "    model = cb.CatBoostClassifier(loss_function = 'Logloss', \n",
    "                            simple_ctr='Counter',\n",
    "                            combinations_ctr='Counter',\n",
    "                            cat_features=['indication'],\n",
    "                            class_weights=[1.0,c_weight[k]],\n",
    "                            verbose=0)\n",
    "    grid[k] = GridSearchCV(estimator=model, \n",
    "                        param_grid = parameters, \n",
    "                        cv = 3, \n",
    "                        n_jobs=-1, \n",
    "                        verbose=3,\n",
    "                       #scoring='f1'\n",
    "                        scoring=['f1','balanced_accuracy','average_precision','roc_auc'],\n",
    "                        refit=False\n",
    "                       )\n",
    "    grid[k].fit(df_xx_d[k],df_yy_d[k])"
   ]
  },
  {
   "cell_type": "code",
   "execution_count": null,
   "metadata": {},
   "outputs": [],
   "source": [
    "#!conda run -n maplight pip install tabulate\n",
    "from tabulate import tabulate\n",
    "from collections import defaultdict\n",
    "data = defaultdict(list)\n",
    "phases = ['passed_phase_1','passed_phase_2','passed_phase_3']\n",
    "mets = ['mean_test_f1','mean_test_average_precision','mean_test_roc_auc','mean_test_balanced_accuracy']\n",
    "data['metric']=mets\n",
    "for j in phases:\n",
    "    for k in mets:\n",
    "        data[j].append(pd.DataFrame(grid[j].cv_results_).sort_values(k,ascending=False)[k].head(1).values)\n",
    "print(data)\n",
    "tabulate(data,tablefmt='html', headers = data.keys())"
   ]
  },
  {
   "cell_type": "code",
   "execution_count": null,
   "metadata": {},
   "outputs": [],
   "source": [
    "from sklearn.model_selection import train_test_split\n",
    "from sklearn.naive_bayes import GaussianNB\n",
    "from sklearn.linear_model import LogisticRegression\n",
    "from sklearn.metrics import average_precision_score, roc_auc_score, f1_score\n",
    "from sklearn.metrics import ConfusionMatrixDisplay\n",
    "from sklearn.model_selection import GridSearchCV\n",
    "X_train, X_test, y_train, y_test = train_test_split(X, y, test_size=0.1, random_state=r)\n",
    "#X_train, X_test, y_train, y_test = train_test_split(df_x, df_y, test_size=0.1, random_state=r)\n",
    "model = GaussianNB()\n",
    "#s_weights = [c_weight if x == 1 else 1.0 for x in y_train ]\n",
    "\n",
    "\n",
    "parameters = {\n",
    "    'var_smoothing': np.logspace(1,-3, num=100)\n",
    "}\n",
    "\n",
    "grid = GridSearchCV(estimator=model, \n",
    "                    param_grid = parameters, \n",
    "                    cv = 5, \n",
    "                    n_jobs=-1, \n",
    "                    verbose=3,\n",
    "                   scoring='f1')\n",
    "grid.fit(X_train,y_train)"
   ]
  },
  {
   "cell_type": "code",
   "execution_count": null,
   "metadata": {},
   "outputs": [],
   "source": []
  },
  {
   "cell_type": "code",
   "execution_count": null,
   "metadata": {},
   "outputs": [],
   "source": [
    "from sklearn.model_selection import train_test_split\n",
    "from sklearn.naive_bayes import GaussianNB\n",
    "from sklearn.linear_model import LogisticRegression\n",
    "from sklearn.metrics import average_precision_score, roc_auc_score, f1_score\n",
    "from sklearn.metrics import ConfusionMatrixDisplay\n",
    "from sklearn.model_selection import GridSearchCV\n",
    "from fastFM import sgd\n",
    "fm = sgd.FMClassification(n_iter=1000, init_stdev=0.1, l2_reg_w=0,\n",
    "                          l2_reg_V=0, rank=2, step_size=0.1)\n",
    "\n",
    "X_train, X_test, y_train, y_test = train_test_split(X, y, test_size=0.1, random_state=r)\n",
    "#X_train, X_test, y_train, y_test = train_test_split(df_x, df_y, test_size=0.1, random_state=r)\n",
    "#model = GaussianNB()\n",
    "#s_weights = [c_weight if x == 1 else 1.0 for x in y_train ]\n",
    "y_labels = np.ones_like(y_train)\n",
    "y_labels[y_train == 0 ] = -1\n",
    "y_train=y_labels\n",
    "fm.fit(X_train, y_train)\n",
    "y_pred = fm.predict(X_test)"
   ]
  },
  {
   "cell_type": "code",
   "execution_count": null,
   "metadata": {},
   "outputs": [],
   "source": [
    "pd.DataFrame(grid.cv_results_).sort_values('rank_test_score')"
   ]
  },
  {
   "cell_type": "code",
   "execution_count": null,
   "metadata": {},
   "outputs": [],
   "source": [
    "from sklearn.model_selection import KFold, cross_val_score\n",
    "k_fold = KFold(n_splits=10, shuffle=True, random_state=5)\n",
    "clf = GaussianNB()\n",
    "#clf = LogisticRegression()\n",
    "print(f\"roc: {cross_val_score(clf, X, y, cv=k_fold, n_jobs=1, scoring='roc_auc').mean()}\")\n",
    "print(f\"f1: {cross_val_score(clf, X, y, cv=k_fold, n_jobs=1, scoring='f1').mean()}\")\n",
    "print(f\"ap: {cross_val_score(clf, X, y, cv=k_fold, n_jobs=1, scoring='average_precision').mean()}\")\n"
   ]
  },
  {
   "cell_type": "code",
   "execution_count": null,
   "metadata": {},
   "outputs": [],
   "source": [
    "from sklearn.model_selection import KFold, cross_val_score\n",
    "k_fold = KFold(n_splits=10, shuffle=True, random_state=5)\n",
    "#clf = GaussianNB()\n",
    "clf = LogisticRegression()\n",
    "print(f\"roc: {cross_val_score(clf, X, y, cv=k_fold, n_jobs=1, scoring='roc_auc').mean()}\")\n",
    "print(f\"f1: {cross_val_score(clf, X, y, cv=k_fold, n_jobs=1, scoring='f1').mean()}\")\n",
    "print(f\"ap: {cross_val_score(clf, X, y, cv=k_fold, n_jobs=1, scoring='average_precision').mean()}\")"
   ]
  },
  {
   "cell_type": "code",
   "execution_count": null,
   "metadata": {},
   "outputs": [],
   "source": [
    "from sklearn.inspection import permutation_importance\n",
    "from sklearn.naive_bayes import GaussianNB\n",
    "from sklearn.model_selection import train_test_split\n",
    "\n",
    "imps_test = permutation_importance(gnb, X_test, y_test, n_repeats=30)\n",
    "print(imps_test.importances_mean)\n",
    "imps_train = permutation_importance(gnb, X_train, y_train, n_repeats=30)\n",
    "print(imps_train.importances_mean)"
   ]
  },
  {
   "cell_type": "code",
   "execution_count": null,
   "metadata": {},
   "outputs": [],
   "source": [
    "def plot_permutation_importance(clf, X, y, ax):\n",
    "    result = permutation_importance(clf, X, y, n_repeats=100, random_state=42, scoring='f1')#, n_jobs=2)\n",
    "    perm_sorted_idx = result.importances_mean.argsort()\n",
    "\n",
    "    ax.boxplot(\n",
    "        result.importances[perm_sorted_idx].T,\n",
    "        vert=False,\n",
    "        labels=X.columns[perm_sorted_idx],\n",
    "    )\n",
    "    ax.axvline(x=0, color=\"k\", linestyle=\"--\")\n",
    "    return ax"
   ]
  },
  {
   "cell_type": "code",
   "execution_count": null,
   "metadata": {},
   "outputs": [],
   "source": [
    "import matplotlib.pyplot as plt\n",
    "fig, ax = plt.subplots(figsize = (5,15))\n",
    "_ = plot_permutation_importance(gnb, X_test, y_test, ax)\n",
    "#print(print(f\"Baseline accuracy on test data: {gnb.score(X_train, y_train):.2}\"))"
   ]
  },
  {
   "cell_type": "code",
   "execution_count": null,
   "metadata": {},
   "outputs": [],
   "source": [
    "fig, ax = plt.subplots(figsize = (5, 15))\n",
    "_ = plot_permutation_importance(gnb, X_train, y_train, ax)\n",
    "ax.set_xlabel(r'$\\longleftarrow$ Importance')"
   ]
  },
  {
   "cell_type": "code",
   "execution_count": null,
   "metadata": {},
   "outputs": [],
   "source": []
  },
  {
   "cell_type": "code",
   "execution_count": null,
   "metadata": {},
   "outputs": [],
   "source": []
  }
 ],
 "metadata": {
  "kernelspec": {
   "display_name": "maplight",
   "language": "python",
   "name": "maplight"
  },
  "language_info": {
   "codemirror_mode": {
    "name": "ipython",
    "version": 3
   },
   "file_extension": ".py",
   "mimetype": "text/x-python",
   "name": "python",
   "nbconvert_exporter": "python",
   "pygments_lexer": "ipython3",
   "version": "3.10.14"
  }
 },
 "nbformat": 4,
 "nbformat_minor": 2
}
