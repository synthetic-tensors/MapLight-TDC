{
 "cells": [
  {
   "cell_type": "markdown",
   "metadata": {},
   "source": [
    "[![Open In Colab](https://colab.research.google.com/assets/colab-badge.svg)](https://colab.research.google.com/github/maplightrx/MapLight-TDC/blob/main/submission_gnn.ipynb)\n",
    "\n",
    "__WARNING__: This notebook is not runnable on Colab because of [this issue](https://github.com/datamol-io/molfeat/issues/61). Please run it locally."
   ]
  },
  {
   "cell_type": "code",
   "execution_count": 2,
   "metadata": {},
   "outputs": [],
   "source": [
    "from sklearn.metrics import average_precision_score, roc_auc_score, mean_absolute_error, balanced_accuracy_score\n",
    "from scipy.stats import spearmanr\n",
    "#Quick function to replace the native TDC one for tox data\n",
    "def evaluate_many(predictions_list):\n",
    "    metric = []\n",
    "    for x in predictions_list:\n",
    "        for k,v in x.items():\n",
    "            metric.append(average_precision_score(tox_data[k]['test'].Y, v))\n",
    "    return {k:sum(metric)/float(len(metric))}\n",
    "def evaluate_aupr(true,pred):\n",
    "    return average_precision_score(true,pred)\n",
    "def evaluate_auroc(true,pred):\n",
    "    return roc_auc_score(true,pred)\n",
    "def evaluate_ba(true,pred):\n",
    "    return balanced_accuracy_score(true,pred)\n",
    "def evaluate_mae(true,pred):\n",
    "    return mean_absolute_error(true,pred)\n",
    "def evaluate_spearman(true,pred):\n",
    "    return spearmanr(true,pred)"
   ]
  },
  {
   "cell_type": "code",
   "execution_count": 5,
   "metadata": {},
   "outputs": [
    {
     "name": "stdout",
     "output_type": "stream",
     "text": [
      "Collecting tabulate\n",
      "  Downloading tabulate-0.9.0-py3-none-any.whl (35 kB)\n",
      "Installing collected packages: tabulate\n",
      "Successfully installed tabulate-0.9.0\n"
     ]
    },
    {
     "ename": "ModuleNotFoundError",
     "evalue": "No module named 'tabulate'",
     "output_type": "error",
     "traceback": [
      "\u001b[0;31m---------------------------------------------------------------------------\u001b[0m",
      "\u001b[0;31mModuleNotFoundError\u001b[0m                       Traceback (most recent call last)",
      "Cell \u001b[0;32mIn[5], line 4\u001b[0m\n\u001b[1;32m      2\u001b[0m \u001b[38;5;28;01mimport\u001b[39;00m \u001b[38;5;21;01mnumpy\u001b[39;00m \u001b[38;5;28;01mas\u001b[39;00m \u001b[38;5;21;01mnp\u001b[39;00m\n\u001b[1;32m      3\u001b[0m get_ipython()\u001b[38;5;241m.\u001b[39msystem(\u001b[38;5;124m'\u001b[39m\u001b[38;5;124mpip install tabulate\u001b[39m\u001b[38;5;124m'\u001b[39m)\n\u001b[0;32m----> 4\u001b[0m \u001b[38;5;28;01mfrom\u001b[39;00m \u001b[38;5;21;01mtabulate\u001b[39;00m \u001b[38;5;28;01mimport\u001b[39;00m tabulate\n\u001b[1;32m      6\u001b[0m df \u001b[38;5;241m=\u001b[39m pd\u001b[38;5;241m.\u001b[39mDataFrame\u001b[38;5;241m.\u001b[39mfrom_dict(metrics)\u001b[38;5;66;03m#, orient='index')\u001b[39;00m\n\u001b[1;32m      7\u001b[0m df\u001b[38;5;241m.\u001b[39mspearman \u001b[38;5;241m=\u001b[39m df[\u001b[38;5;124m'\u001b[39m\u001b[38;5;124mspearman\u001b[39m\u001b[38;5;124m'\u001b[39m]\u001b[38;5;241m.\u001b[39mapply(\u001b[38;5;28;01mlambda\u001b[39;00m x: x\u001b[38;5;241m.\u001b[39mstatistic \u001b[38;5;28;01mif\u001b[39;00m \u001b[38;5;129;01mnot\u001b[39;00m \u001b[38;5;28misinstance\u001b[39m(x, \u001b[38;5;28mfloat\u001b[39m) \u001b[38;5;28;01melse\u001b[39;00m x)\n",
      "\u001b[0;31mModuleNotFoundError\u001b[0m: No module named 'tabulate'"
     ]
    }
   ],
   "source": [
    "import pandas as pd\n",
    "import numpy as np\n",
    "!pip install tabulate\n",
    "from tabulate import tabulate\n",
    "\n",
    "df = pd.DataFrame.from_dict(metrics)#, orient='index')\n",
    "df.spearman = df['spearman'].apply(lambda x: x.statistic if not isinstance(x, float) else x)\n",
    "# Generate HTML table string using tabulate\n",
    "html_table = tabulate(df[['mae','spearman']].dropna(), headers='keys', tablefmt=\"github\")#, tablefmt='html')\n",
    "print(html_table)\n",
    "html_table = tabulate(df[['aupr','auroc','balacc','optimal_th']].dropna(), headers='keys', tablefmt=\"github\")#, tablefmt='html')\n",
    "print(html_table)\n",
    "df.to_csv('data/metrics.csv')"
   ]
  },
  {
   "cell_type": "code",
   "execution_count": 6,
   "metadata": {},
   "outputs": [
    {
     "ename": "NameError",
     "evalue": "name 'df_inf_d' is not defined",
     "output_type": "error",
     "traceback": [
      "\u001b[0;31m---------------------------------------------------------------------------\u001b[0m",
      "\u001b[0;31mNameError\u001b[0m                                 Traceback (most recent call last)",
      "Cell \u001b[0;32mIn[6], line 5\u001b[0m\n\u001b[1;32m      3\u001b[0m \u001b[38;5;66;03m#print(benchmark_config)\u001b[39;00m\n\u001b[1;32m      4\u001b[0m predictions \u001b[38;5;241m=\u001b[39m defaultdict(\u001b[38;5;28mdict\u001b[39m)\n\u001b[0;32m----> 5\u001b[0m \u001b[38;5;28;01mfor\u001b[39;00m k,v \u001b[38;5;129;01min\u001b[39;00m \u001b[43mdf_inf_d\u001b[49m\u001b[38;5;241m.\u001b[39mitems():\n\u001b[1;32m      6\u001b[0m     \u001b[38;5;28mprint\u001b[39m(k)\n\u001b[1;32m      7\u001b[0m     test \u001b[38;5;241m=\u001b[39m v\n",
      "\u001b[0;31mNameError\u001b[0m: name 'df_inf_d' is not defined"
     ]
    }
   ],
   "source": [
    "# Infer\n",
    "from collections import defaultdict\n",
    "#print(benchmark_config)\n",
    "predictions = defaultdict(dict)\n",
    "for k,v in df_inf_d.items():\n",
    "    print(k)\n",
    "    test = v\n",
    "    seed = 5\n",
    "    X_test = get_fingerprints(test['Drug'])\n",
    "    for name,admet_benchmark in benchmark_config.items():\n",
    "        task = admet_benchmark[0]\n",
    "        print(name)\n",
    "        params = {\n",
    "                'random_strength': 2, \n",
    "                'random_seed': seed,\n",
    "                'verbose': 0,\n",
    "            }\n",
    "        if task == 'regression':\n",
    "            params['loss_function'] = 'MAE'            \n",
    "            model = cb.CatBoostRegressor(**params)\n",
    "            model.load_model(f\"{name}\")\n",
    "            y_pred_test = model.predict(X_test)\n",
    "            print(y_pred_test)\n",
    "        elif task == 'binary':\n",
    "            params['loss_function'] = 'Logloss'\n",
    "            model = cb.CatBoostClassifier(**params)\n",
    "            model.load_model(f\"{name}\")\n",
    "            y_pred_test = model.predict_proba(X_test)[:, 1]\n",
    "        predictions[k][name] = y_pred_test"
   ]
  },
  {
   "cell_type": "code",
   "execution_count": 7,
   "metadata": {},
   "outputs": [
    {
     "ename": "NameError",
     "evalue": "name 'X' is not defined",
     "output_type": "error",
     "traceback": [
      "\u001b[0;31m---------------------------------------------------------------------------\u001b[0m",
      "\u001b[0;31mNameError\u001b[0m                                 Traceback (most recent call last)",
      "Cell \u001b[0;32mIn[7], line 2\u001b[0m\n\u001b[1;32m      1\u001b[0m \u001b[38;5;28;01mfrom\u001b[39;00m \u001b[38;5;21;01msklearn\u001b[39;00m\u001b[38;5;21;01m.\u001b[39;00m\u001b[38;5;21;01mpreprocessing\u001b[39;00m \u001b[38;5;28;01mimport\u001b[39;00m OneHotEncoder\n\u001b[0;32m----> 2\u001b[0m ohe \u001b[38;5;241m=\u001b[39m OneHotEncoder(sparse_output\u001b[38;5;241m=\u001b[39m\u001b[38;5;28;01mFalse\u001b[39;00m)\u001b[38;5;241m.\u001b[39mfit(\u001b[43mX\u001b[49m)\n\u001b[1;32m      3\u001b[0m ohe\u001b[38;5;241m.\u001b[39mtransform()\n",
      "\u001b[0;31mNameError\u001b[0m: name 'X' is not defined"
     ]
    }
   ],
   "source": [
    "from sklearn.preprocessing import OneHotEncoder\n",
    "ohe = OneHotEncoder(sparse_output=False).fit(X)\n",
    "ohe.transform()"
   ]
  },
  {
   "cell_type": "code",
   "execution_count": 8,
   "metadata": {},
   "outputs": [
    {
     "ename": "FileNotFoundError",
     "evalue": "[Errno 2] No such file or directory: '/efs-private/alladmet/NB_Pred_data_passed_phase_1.csv'",
     "output_type": "error",
     "traceback": [
      "\u001b[0;31m---------------------------------------------------------------------------\u001b[0m",
      "\u001b[0;31mFileNotFoundError\u001b[0m                         Traceback (most recent call last)",
      "Cell \u001b[0;32mIn[8], line 4\u001b[0m\n\u001b[1;32m      2\u001b[0m df_d\u001b[38;5;241m=\u001b[39m{}\n\u001b[1;32m      3\u001b[0m \u001b[38;5;28;01mfor\u001b[39;00m k \u001b[38;5;129;01min\u001b[39;00m [\u001b[38;5;124m'\u001b[39m\u001b[38;5;124mpassed_phase_1\u001b[39m\u001b[38;5;124m'\u001b[39m,\u001b[38;5;124m'\u001b[39m\u001b[38;5;124mpassed_phase_2\u001b[39m\u001b[38;5;124m'\u001b[39m,\u001b[38;5;124m'\u001b[39m\u001b[38;5;124mpassed_phase_3\u001b[39m\u001b[38;5;124m'\u001b[39m]:\n\u001b[0;32m----> 4\u001b[0m     df_d[k] \u001b[38;5;241m=\u001b[39m \u001b[43mpd\u001b[49m\u001b[38;5;241;43m.\u001b[39;49m\u001b[43mread_csv\u001b[49m\u001b[43m(\u001b[49m\u001b[38;5;124;43mf\u001b[39;49m\u001b[38;5;124;43m'\u001b[39;49m\u001b[38;5;124;43m/efs-private/alladmet/NB_Pred_data_\u001b[39;49m\u001b[38;5;132;43;01m{\u001b[39;49;00m\u001b[43mk\u001b[49m\u001b[38;5;132;43;01m}\u001b[39;49;00m\u001b[38;5;124;43m.csv\u001b[39;49m\u001b[38;5;124;43m'\u001b[39;49m\u001b[43m)\u001b[49m\n",
      "File \u001b[0;32m~/josiah-fs1/mambaforge/envs/maplight/lib/python3.11/site-packages/pandas/io/parsers/readers.py:948\u001b[0m, in \u001b[0;36mread_csv\u001b[0;34m(filepath_or_buffer, sep, delimiter, header, names, index_col, usecols, dtype, engine, converters, true_values, false_values, skipinitialspace, skiprows, skipfooter, nrows, na_values, keep_default_na, na_filter, verbose, skip_blank_lines, parse_dates, infer_datetime_format, keep_date_col, date_parser, date_format, dayfirst, cache_dates, iterator, chunksize, compression, thousands, decimal, lineterminator, quotechar, quoting, doublequote, escapechar, comment, encoding, encoding_errors, dialect, on_bad_lines, delim_whitespace, low_memory, memory_map, float_precision, storage_options, dtype_backend)\u001b[0m\n\u001b[1;32m    935\u001b[0m kwds_defaults \u001b[38;5;241m=\u001b[39m _refine_defaults_read(\n\u001b[1;32m    936\u001b[0m     dialect,\n\u001b[1;32m    937\u001b[0m     delimiter,\n\u001b[0;32m   (...)\u001b[0m\n\u001b[1;32m    944\u001b[0m     dtype_backend\u001b[38;5;241m=\u001b[39mdtype_backend,\n\u001b[1;32m    945\u001b[0m )\n\u001b[1;32m    946\u001b[0m kwds\u001b[38;5;241m.\u001b[39mupdate(kwds_defaults)\n\u001b[0;32m--> 948\u001b[0m \u001b[38;5;28;01mreturn\u001b[39;00m \u001b[43m_read\u001b[49m\u001b[43m(\u001b[49m\u001b[43mfilepath_or_buffer\u001b[49m\u001b[43m,\u001b[49m\u001b[43m \u001b[49m\u001b[43mkwds\u001b[49m\u001b[43m)\u001b[49m\n",
      "File \u001b[0;32m~/josiah-fs1/mambaforge/envs/maplight/lib/python3.11/site-packages/pandas/io/parsers/readers.py:611\u001b[0m, in \u001b[0;36m_read\u001b[0;34m(filepath_or_buffer, kwds)\u001b[0m\n\u001b[1;32m    608\u001b[0m _validate_names(kwds\u001b[38;5;241m.\u001b[39mget(\u001b[38;5;124m\"\u001b[39m\u001b[38;5;124mnames\u001b[39m\u001b[38;5;124m\"\u001b[39m, \u001b[38;5;28;01mNone\u001b[39;00m))\n\u001b[1;32m    610\u001b[0m \u001b[38;5;66;03m# Create the parser.\u001b[39;00m\n\u001b[0;32m--> 611\u001b[0m parser \u001b[38;5;241m=\u001b[39m \u001b[43mTextFileReader\u001b[49m\u001b[43m(\u001b[49m\u001b[43mfilepath_or_buffer\u001b[49m\u001b[43m,\u001b[49m\u001b[43m \u001b[49m\u001b[38;5;241;43m*\u001b[39;49m\u001b[38;5;241;43m*\u001b[39;49m\u001b[43mkwds\u001b[49m\u001b[43m)\u001b[49m\n\u001b[1;32m    613\u001b[0m \u001b[38;5;28;01mif\u001b[39;00m chunksize \u001b[38;5;129;01mor\u001b[39;00m iterator:\n\u001b[1;32m    614\u001b[0m     \u001b[38;5;28;01mreturn\u001b[39;00m parser\n",
      "File \u001b[0;32m~/josiah-fs1/mambaforge/envs/maplight/lib/python3.11/site-packages/pandas/io/parsers/readers.py:1448\u001b[0m, in \u001b[0;36mTextFileReader.__init__\u001b[0;34m(self, f, engine, **kwds)\u001b[0m\n\u001b[1;32m   1445\u001b[0m     \u001b[38;5;28mself\u001b[39m\u001b[38;5;241m.\u001b[39moptions[\u001b[38;5;124m\"\u001b[39m\u001b[38;5;124mhas_index_names\u001b[39m\u001b[38;5;124m\"\u001b[39m] \u001b[38;5;241m=\u001b[39m kwds[\u001b[38;5;124m\"\u001b[39m\u001b[38;5;124mhas_index_names\u001b[39m\u001b[38;5;124m\"\u001b[39m]\n\u001b[1;32m   1447\u001b[0m \u001b[38;5;28mself\u001b[39m\u001b[38;5;241m.\u001b[39mhandles: IOHandles \u001b[38;5;241m|\u001b[39m \u001b[38;5;28;01mNone\u001b[39;00m \u001b[38;5;241m=\u001b[39m \u001b[38;5;28;01mNone\u001b[39;00m\n\u001b[0;32m-> 1448\u001b[0m \u001b[38;5;28mself\u001b[39m\u001b[38;5;241m.\u001b[39m_engine \u001b[38;5;241m=\u001b[39m \u001b[38;5;28;43mself\u001b[39;49m\u001b[38;5;241;43m.\u001b[39;49m\u001b[43m_make_engine\u001b[49m\u001b[43m(\u001b[49m\u001b[43mf\u001b[49m\u001b[43m,\u001b[49m\u001b[43m \u001b[49m\u001b[38;5;28;43mself\u001b[39;49m\u001b[38;5;241;43m.\u001b[39;49m\u001b[43mengine\u001b[49m\u001b[43m)\u001b[49m\n",
      "File \u001b[0;32m~/josiah-fs1/mambaforge/envs/maplight/lib/python3.11/site-packages/pandas/io/parsers/readers.py:1705\u001b[0m, in \u001b[0;36mTextFileReader._make_engine\u001b[0;34m(self, f, engine)\u001b[0m\n\u001b[1;32m   1703\u001b[0m     \u001b[38;5;28;01mif\u001b[39;00m \u001b[38;5;124m\"\u001b[39m\u001b[38;5;124mb\u001b[39m\u001b[38;5;124m\"\u001b[39m \u001b[38;5;129;01mnot\u001b[39;00m \u001b[38;5;129;01min\u001b[39;00m mode:\n\u001b[1;32m   1704\u001b[0m         mode \u001b[38;5;241m+\u001b[39m\u001b[38;5;241m=\u001b[39m \u001b[38;5;124m\"\u001b[39m\u001b[38;5;124mb\u001b[39m\u001b[38;5;124m\"\u001b[39m\n\u001b[0;32m-> 1705\u001b[0m \u001b[38;5;28mself\u001b[39m\u001b[38;5;241m.\u001b[39mhandles \u001b[38;5;241m=\u001b[39m \u001b[43mget_handle\u001b[49m\u001b[43m(\u001b[49m\n\u001b[1;32m   1706\u001b[0m \u001b[43m    \u001b[49m\u001b[43mf\u001b[49m\u001b[43m,\u001b[49m\n\u001b[1;32m   1707\u001b[0m \u001b[43m    \u001b[49m\u001b[43mmode\u001b[49m\u001b[43m,\u001b[49m\n\u001b[1;32m   1708\u001b[0m \u001b[43m    \u001b[49m\u001b[43mencoding\u001b[49m\u001b[38;5;241;43m=\u001b[39;49m\u001b[38;5;28;43mself\u001b[39;49m\u001b[38;5;241;43m.\u001b[39;49m\u001b[43moptions\u001b[49m\u001b[38;5;241;43m.\u001b[39;49m\u001b[43mget\u001b[49m\u001b[43m(\u001b[49m\u001b[38;5;124;43m\"\u001b[39;49m\u001b[38;5;124;43mencoding\u001b[39;49m\u001b[38;5;124;43m\"\u001b[39;49m\u001b[43m,\u001b[49m\u001b[43m \u001b[49m\u001b[38;5;28;43;01mNone\u001b[39;49;00m\u001b[43m)\u001b[49m\u001b[43m,\u001b[49m\n\u001b[1;32m   1709\u001b[0m \u001b[43m    \u001b[49m\u001b[43mcompression\u001b[49m\u001b[38;5;241;43m=\u001b[39;49m\u001b[38;5;28;43mself\u001b[39;49m\u001b[38;5;241;43m.\u001b[39;49m\u001b[43moptions\u001b[49m\u001b[38;5;241;43m.\u001b[39;49m\u001b[43mget\u001b[49m\u001b[43m(\u001b[49m\u001b[38;5;124;43m\"\u001b[39;49m\u001b[38;5;124;43mcompression\u001b[39;49m\u001b[38;5;124;43m\"\u001b[39;49m\u001b[43m,\u001b[49m\u001b[43m \u001b[49m\u001b[38;5;28;43;01mNone\u001b[39;49;00m\u001b[43m)\u001b[49m\u001b[43m,\u001b[49m\n\u001b[1;32m   1710\u001b[0m \u001b[43m    \u001b[49m\u001b[43mmemory_map\u001b[49m\u001b[38;5;241;43m=\u001b[39;49m\u001b[38;5;28;43mself\u001b[39;49m\u001b[38;5;241;43m.\u001b[39;49m\u001b[43moptions\u001b[49m\u001b[38;5;241;43m.\u001b[39;49m\u001b[43mget\u001b[49m\u001b[43m(\u001b[49m\u001b[38;5;124;43m\"\u001b[39;49m\u001b[38;5;124;43mmemory_map\u001b[39;49m\u001b[38;5;124;43m\"\u001b[39;49m\u001b[43m,\u001b[49m\u001b[43m \u001b[49m\u001b[38;5;28;43;01mFalse\u001b[39;49;00m\u001b[43m)\u001b[49m\u001b[43m,\u001b[49m\n\u001b[1;32m   1711\u001b[0m \u001b[43m    \u001b[49m\u001b[43mis_text\u001b[49m\u001b[38;5;241;43m=\u001b[39;49m\u001b[43mis_text\u001b[49m\u001b[43m,\u001b[49m\n\u001b[1;32m   1712\u001b[0m \u001b[43m    \u001b[49m\u001b[43merrors\u001b[49m\u001b[38;5;241;43m=\u001b[39;49m\u001b[38;5;28;43mself\u001b[39;49m\u001b[38;5;241;43m.\u001b[39;49m\u001b[43moptions\u001b[49m\u001b[38;5;241;43m.\u001b[39;49m\u001b[43mget\u001b[49m\u001b[43m(\u001b[49m\u001b[38;5;124;43m\"\u001b[39;49m\u001b[38;5;124;43mencoding_errors\u001b[39;49m\u001b[38;5;124;43m\"\u001b[39;49m\u001b[43m,\u001b[49m\u001b[43m \u001b[49m\u001b[38;5;124;43m\"\u001b[39;49m\u001b[38;5;124;43mstrict\u001b[39;49m\u001b[38;5;124;43m\"\u001b[39;49m\u001b[43m)\u001b[49m\u001b[43m,\u001b[49m\n\u001b[1;32m   1713\u001b[0m \u001b[43m    \u001b[49m\u001b[43mstorage_options\u001b[49m\u001b[38;5;241;43m=\u001b[39;49m\u001b[38;5;28;43mself\u001b[39;49m\u001b[38;5;241;43m.\u001b[39;49m\u001b[43moptions\u001b[49m\u001b[38;5;241;43m.\u001b[39;49m\u001b[43mget\u001b[49m\u001b[43m(\u001b[49m\u001b[38;5;124;43m\"\u001b[39;49m\u001b[38;5;124;43mstorage_options\u001b[39;49m\u001b[38;5;124;43m\"\u001b[39;49m\u001b[43m,\u001b[49m\u001b[43m \u001b[49m\u001b[38;5;28;43;01mNone\u001b[39;49;00m\u001b[43m)\u001b[49m\u001b[43m,\u001b[49m\n\u001b[1;32m   1714\u001b[0m \u001b[43m\u001b[49m\u001b[43m)\u001b[49m\n\u001b[1;32m   1715\u001b[0m \u001b[38;5;28;01massert\u001b[39;00m \u001b[38;5;28mself\u001b[39m\u001b[38;5;241m.\u001b[39mhandles \u001b[38;5;129;01mis\u001b[39;00m \u001b[38;5;129;01mnot\u001b[39;00m \u001b[38;5;28;01mNone\u001b[39;00m\n\u001b[1;32m   1716\u001b[0m f \u001b[38;5;241m=\u001b[39m \u001b[38;5;28mself\u001b[39m\u001b[38;5;241m.\u001b[39mhandles\u001b[38;5;241m.\u001b[39mhandle\n",
      "File \u001b[0;32m~/josiah-fs1/mambaforge/envs/maplight/lib/python3.11/site-packages/pandas/io/common.py:863\u001b[0m, in \u001b[0;36mget_handle\u001b[0;34m(path_or_buf, mode, encoding, compression, memory_map, is_text, errors, storage_options)\u001b[0m\n\u001b[1;32m    858\u001b[0m \u001b[38;5;28;01melif\u001b[39;00m \u001b[38;5;28misinstance\u001b[39m(handle, \u001b[38;5;28mstr\u001b[39m):\n\u001b[1;32m    859\u001b[0m     \u001b[38;5;66;03m# Check whether the filename is to be opened in binary mode.\u001b[39;00m\n\u001b[1;32m    860\u001b[0m     \u001b[38;5;66;03m# Binary mode does not support 'encoding' and 'newline'.\u001b[39;00m\n\u001b[1;32m    861\u001b[0m     \u001b[38;5;28;01mif\u001b[39;00m ioargs\u001b[38;5;241m.\u001b[39mencoding \u001b[38;5;129;01mand\u001b[39;00m \u001b[38;5;124m\"\u001b[39m\u001b[38;5;124mb\u001b[39m\u001b[38;5;124m\"\u001b[39m \u001b[38;5;129;01mnot\u001b[39;00m \u001b[38;5;129;01min\u001b[39;00m ioargs\u001b[38;5;241m.\u001b[39mmode:\n\u001b[1;32m    862\u001b[0m         \u001b[38;5;66;03m# Encoding\u001b[39;00m\n\u001b[0;32m--> 863\u001b[0m         handle \u001b[38;5;241m=\u001b[39m \u001b[38;5;28;43mopen\u001b[39;49m\u001b[43m(\u001b[49m\n\u001b[1;32m    864\u001b[0m \u001b[43m            \u001b[49m\u001b[43mhandle\u001b[49m\u001b[43m,\u001b[49m\n\u001b[1;32m    865\u001b[0m \u001b[43m            \u001b[49m\u001b[43mioargs\u001b[49m\u001b[38;5;241;43m.\u001b[39;49m\u001b[43mmode\u001b[49m\u001b[43m,\u001b[49m\n\u001b[1;32m    866\u001b[0m \u001b[43m            \u001b[49m\u001b[43mencoding\u001b[49m\u001b[38;5;241;43m=\u001b[39;49m\u001b[43mioargs\u001b[49m\u001b[38;5;241;43m.\u001b[39;49m\u001b[43mencoding\u001b[49m\u001b[43m,\u001b[49m\n\u001b[1;32m    867\u001b[0m \u001b[43m            \u001b[49m\u001b[43merrors\u001b[49m\u001b[38;5;241;43m=\u001b[39;49m\u001b[43merrors\u001b[49m\u001b[43m,\u001b[49m\n\u001b[1;32m    868\u001b[0m \u001b[43m            \u001b[49m\u001b[43mnewline\u001b[49m\u001b[38;5;241;43m=\u001b[39;49m\u001b[38;5;124;43m\"\u001b[39;49m\u001b[38;5;124;43m\"\u001b[39;49m\u001b[43m,\u001b[49m\n\u001b[1;32m    869\u001b[0m \u001b[43m        \u001b[49m\u001b[43m)\u001b[49m\n\u001b[1;32m    870\u001b[0m     \u001b[38;5;28;01melse\u001b[39;00m:\n\u001b[1;32m    871\u001b[0m         \u001b[38;5;66;03m# Binary mode\u001b[39;00m\n\u001b[1;32m    872\u001b[0m         handle \u001b[38;5;241m=\u001b[39m \u001b[38;5;28mopen\u001b[39m(handle, ioargs\u001b[38;5;241m.\u001b[39mmode)\n",
      "\u001b[0;31mFileNotFoundError\u001b[0m: [Errno 2] No such file or directory: '/efs-private/alladmet/NB_Pred_data_passed_phase_1.csv'"
     ]
    }
   ],
   "source": [
    "import pandas as pd\n",
    "df_d={}\n",
    "for k in ['passed_phase_1','passed_phase_2','passed_phase_3']:\n",
    "    df_d[k] = pd.read_csv(f'/efs-private/alladmet/NB_Pred_data_{k}.csv')"
   ]
  },
  {
   "cell_type": "code",
   "execution_count": null,
   "metadata": {},
   "outputs": [],
   "source": [
    "df_inf_d={}\n",
    "for k in df_d:\n",
    "    df_inf_d[k]=pd.DataFrame()\n",
    "    df_inf_d[k]['Drug_ID'] = df_d[k].smiles.unique()\n",
    "    df_inf_d[k]['Drug'] = df_d[k].smiles.unique()\n",
    "    df_inf_d[k]['Y'] = 0"
   ]
  },
  {
   "cell_type": "code",
   "execution_count": null,
   "metadata": {},
   "outputs": [],
   "source": [
    "X = defaultdict(lambda: pd.DataFrame())\n",
    "for k,v in predictions.items():\n",
    "    for name,arr in v.items():\n",
    "        X[k][name] = arr"
   ]
  },
  {
   "cell_type": "code",
   "execution_count": null,
   "metadata": {},
   "outputs": [],
   "source": [
    "X = {k:pd.concat([df_inf_d[k],v],axis=1).rename(columns={'Drug':'smiles'}) for k,v in X.items()}\n",
    "for k,v in X.items():\n",
    "    v.to_csv(f'predictions_{k}.csv')"
   ]
  },
  {
   "cell_type": "code",
   "execution_count": null,
   "metadata": {},
   "outputs": [],
   "source": [
    "#df = df[['smiles','indication','final_status']].drop_duplicates()\n"
   ]
  },
  {
   "cell_type": "code",
   "execution_count": null,
   "metadata": {},
   "outputs": [],
   "source": [
    "#X=X.rename(columns={'Drug':'smiles'}) #.drop(columns='Y')\n",
    "df_d_ = {k:v.join(X[k].set_index('smiles'), on='smiles') for k,v in df_d.items()} #.drop(columns=['Drug_ID','Y'])\n",
    "for k in df_d_:\n",
    "    #df_d[k]['Y'] = (df_d[k].y == 'Failed').astype(int)\n",
    "    #df_d_[k]\n",
    "    df_d_[k]=df_d_[k][df_d_[k].y != \"Not tested\"]\n",
    "    df_d_[k]['Y'] = df_d_[k]['y'].isin([False,'False']).astype(int)\n",
    "    #df_d_[k].rename(columns={'y':'Y'})\n",
    "#df"
   ]
  },
  {
   "cell_type": "code",
   "execution_count": null,
   "metadata": {},
   "outputs": [],
   "source": [
    "df_d_"
   ]
  },
  {
   "cell_type": "code",
   "execution_count": null,
   "metadata": {},
   "outputs": [],
   "source": [
    "#NOT NEEDED WITH CATBOOST!!! IT OHEs itself\n",
    "from sklearn.preprocessing import OneHotEncoder\n",
    "# data is a Pandas DataFrame\n",
    "data={}\n",
    "for k,v in df_d_.items():\n",
    "    jobs_encoder = OneHotEncoder(sparse=False)\n",
    "    jobs_encoder.fit(v['indication'].unique().reshape(-1, 1))\n",
    "    transformed = jobs_encoder.transform(v['indication'].to_numpy().reshape(-1,1))\n",
    "    #Create a Pandas DataFrame of the hot encoded column\n",
    "    ohe_df = pd.DataFrame(transformed, columns=jobs_encoder.get_feature_names_out())\n",
    "    #concat with original data\n",
    "    print(v.shape)\n",
    "    print(ohe_df.shape)\n",
    "    data[k] = pd.concat([v.reset_index(), ohe_df], axis=1)#.drop(columns=['smiles', 'Unnamed: 0',k, 'indication','Drug_ID'])\n",
    "    #data.to_csv('all_w_ohe.csv')"
   ]
  },
  {
   "cell_type": "code",
   "execution_count": null,
   "metadata": {},
   "outputs": [],
   "source": [
    "#data['passed_phase_1'].columns"
   ]
  },
  {
   "cell_type": "code",
   "execution_count": null,
   "metadata": {},
   "outputs": [],
   "source": [
    "X, y = data.drop(columns='Y').to_numpy(), data.Y.to_numpy()"
   ]
  },
  {
   "cell_type": "code",
   "execution_count": null,
   "metadata": {},
   "outputs": [],
   "source": [
    "df_in = df_d_\n",
    "drop = ['Unnamed: 0', 'Drug_ID','y']\n",
    "#df_in = data\n",
    "#drop = ['Unnamed: 0', 'Drug_ID','y','index','indication','smiles']\n",
    "df_in = {k:v.sample(frac=1).reset_index(drop=True) for k,v in df_in.items()}\n",
    "df_xy_d = {k: v.drop(columns=drop) for k,v in df_in.items()}\n",
    "df_xx_d = {k: v.drop(columns='Y') for k,v in df_xy_d.items()}\n",
    "df_yy_d = {k: v.Y for k,v in df_xy_d.items()}\n",
    "#X_test_d = {k: get_fingerprints(v['smiles']) for k,v in df_xx_d.items()}"
   ]
  },
  {
   "cell_type": "code",
   "execution_count": null,
   "metadata": {
    "scrolled": true
   },
   "outputs": [],
   "source": [
    "df_xx_d = {k: pd.concat([v.reset_index(drop=True),pd.DataFrame(X_test_d[k])],axis=1).drop('smiles',axis=1) for k,v in df_xx_d.items()}\n",
    "#df_xx_d={k:v.drop(columns='index') for k,v in df_xx_d.items()}"
   ]
  },
  {
   "cell_type": "code",
   "execution_count": null,
   "metadata": {},
   "outputs": [],
   "source": [
    "df_xx_d"
   ]
  },
  {
   "cell_type": "code",
   "execution_count": null,
   "metadata": {},
   "outputs": [],
   "source": [
    "c_weight = {k: len(v)/sum(v) for k,v in df_yy_d.items()}\n",
    "c_weight"
   ]
  },
  {
   "cell_type": "code",
   "execution_count": null,
   "metadata": {},
   "outputs": [],
   "source": [
    "df_xx_d = {k:v.drop(columns=v.columns[1:]) for k,v in df_xx_d.items()}"
   ]
  },
  {
   "cell_type": "code",
   "execution_count": 9,
   "metadata": {},
   "outputs": [
    {
     "ename": "NameError",
     "evalue": "name 'df_d_' is not defined",
     "output_type": "error",
     "traceback": [
      "\u001b[0;31m---------------------------------------------------------------------------\u001b[0m",
      "\u001b[0;31mNameError\u001b[0m                                 Traceback (most recent call last)",
      "Cell \u001b[0;32mIn[9], line 8\u001b[0m\n\u001b[1;32m      5\u001b[0m \u001b[38;5;28;01mfrom\u001b[39;00m \u001b[38;5;21;01msklearn\u001b[39;00m\u001b[38;5;21;01m.\u001b[39;00m\u001b[38;5;21;01mmetrics\u001b[39;00m \u001b[38;5;28;01mimport\u001b[39;00m ConfusionMatrixDisplay\n\u001b[1;32m      7\u001b[0m \u001b[38;5;28;01mimport\u001b[39;00m \u001b[38;5;21;01mmatplotlib\u001b[39;00m\u001b[38;5;21;01m.\u001b[39;00m\u001b[38;5;21;01mpyplot\u001b[39;00m \u001b[38;5;28;01mas\u001b[39;00m \u001b[38;5;21;01mplt\u001b[39;00m\n\u001b[0;32m----> 8\u001b[0m \u001b[38;5;28;01mfor\u001b[39;00m k \u001b[38;5;129;01min\u001b[39;00m \u001b[43mdf_d_\u001b[49m\u001b[38;5;241m.\u001b[39mkeys():\n\u001b[1;32m      9\u001b[0m     \u001b[38;5;28mprint\u001b[39m(\u001b[38;5;124mf\u001b[39m\u001b[38;5;124m\"\u001b[39m\u001b[38;5;124m-----------------\u001b[39m\u001b[38;5;124m\"\u001b[39m)\n\u001b[1;32m     10\u001b[0m     \u001b[38;5;28mprint\u001b[39m(k)\n",
      "\u001b[0;31mNameError\u001b[0m: name 'df_d_' is not defined"
     ]
    }
   ],
   "source": [
    "from sklearn.model_selection import train_test_split, KFold\n",
    "from sklearn.naive_bayes import GaussianNB\n",
    "from sklearn.linear_model import LogisticRegression\n",
    "from sklearn.metrics import average_precision_score, roc_auc_score, f1_score\n",
    "from sklearn.metrics import ConfusionMatrixDisplay\n",
    "\n",
    "import matplotlib.pyplot as plt\n",
    "for k in df_d_.keys():\n",
    "    print(f\"-----------------\")\n",
    "    print(k)\n",
    "    print(f\"-----------------\")\n",
    "\n",
    "    kf = KFold(n_splits=5, random_state=42, shuffle=True)\n",
    "    scores = defaultdict(list)\n",
    "    for i, (train_index, test_index) in enumerate(kf.split(df_xx_d[k])):\n",
    "        #print(f\"Fold {i}:\")\n",
    "        #df_xx_d[k].columns = df_xx_d[k].columns.astype(str)\n",
    "        X_train, X_test, y_train, y_test = (df_xx_d[k].iloc[train_index],\n",
    "                                            df_xx_d[k].iloc[test_index],\n",
    "                                            df_yy_d[k].iloc[train_index],\n",
    "                                            df_yy_d[k].iloc[test_index])\n",
    "        #X_train, X_test, y_train, y_test = train_test_split(df_xx_d[k], df_yy_d[k], test_size=0.1, random_state=r)\n",
    "        #print(y_train.sum()/len(y_train))\n",
    "        #gnb = GaussianNB()\n",
    "        #s_weights = [c_weight[k] if x == 1 else 1.0 for x in y_train ]\n",
    "        #gnb = LogisticRegression()\n",
    "        #y_pred = gnb.fit(X_train, y_train, sample_weight=s_weights).predict(X_test)\n",
    "        gnb = cb.CatBoostClassifier(loss_function = 'Logloss', \n",
    "                                    simple_ctr='Counter',\n",
    "                                    combinations_ctr='Counter',\n",
    "                                    cat_features=['indication'],\n",
    "                                    class_weights=[1.0,c_weight[k]],\n",
    "                                    verbose=0)\n",
    "        y_pred = gnb.fit(X_train, y_train).predict(X_test)\n",
    "        \"\"\"\n",
    "        print('---------')\n",
    "        print(\"Number of mislabeled points out of a total %d points : %d\"\n",
    "              % (X_test.shape[0], (y_test != y_pred).sum()))\n",
    "        print(f\"{gnb.score(X_test,y_test)=}\")\n",
    "        print(f\"{average_precision_score(y_test, y_pred)=}\")\n",
    "        print(f\"{roc_auc_score(y_test,y_pred)=}\")\n",
    "        print(f\"{f1_score(y_test,y_pred)=}\")\n",
    "        \"\"\"\n",
    "        scores['loss'].append(gnb.score(X_test,y_test))\n",
    "        scores['ap'].append(average_precision_score(y_test, y_pred))\n",
    "        scores['roc'].append(roc_auc_score(y_test,y_pred))\n",
    "        scores['f1'].append(f1_score(y_test,y_pred))\n",
    "        # = plt.subplots()\n",
    "        #ConfusionMatrixDisplay.from_estimator(gnb, X_test, y_test)\n",
    "        #plt.show()\n",
    "    for k,v in scores.items():\n",
    "        print(f\"{k}:{sum(v)/len(v)}\")"
   ]
  },
  {
   "cell_type": "code",
   "execution_count": null,
   "metadata": {},
   "outputs": [],
   "source": [
    "df_xx_d = {k:v.reset_index(drop=True) for k,v in df_xx_d.items()}"
   ]
  },
  {
   "cell_type": "code",
   "execution_count": null,
   "metadata": {},
   "outputs": [
    {
     "name": "stdout",
     "output_type": "stream",
     "text": [
      "[CV 3/3] END depth=12, iterations=100, learning_rate=0.1; average_precision: (test=0.249) balanced_accuracy: (test=0.633) f1: (test=0.272) roc_auc: (test=0.752) total time= 1.1min\n",
      "[CV 3/3] END depth=12, iterations=120, learning_rate=0.2; average_precision: (test=0.242) balanced_accuracy: (test=0.621) f1: (test=0.279) roc_auc: (test=0.725) total time= 1.3min\n",
      "[CV 1/3] END depth=6, iterations=80, learning_rate=0.2; average_precision: (test=0.517) balanced_accuracy: (test=0.741) f1: (test=0.517) roc_auc: (test=0.816) total time=  11.8s\n",
      "[CV 3/3] END depth=6, iterations=120, learning_rate=0.1; average_precision: (test=0.502) balanced_accuracy: (test=0.731) f1: (test=0.488) roc_auc: (test=0.816) total time=  14.2s\n",
      "[CV 1/3] END depth=7, iterations=80, learning_rate=0.1; average_precision: (test=0.506) balanced_accuracy: (test=0.758) f1: (test=0.517) roc_auc: (test=0.812) total time=  13.6s\n",
      "[CV 2/3] END depth=7, iterations=80, learning_rate=0.2; average_precision: (test=0.523) balanced_accuracy: (test=0.741) f1: (test=0.526) roc_auc: (test=0.830) total time=  13.0s\n",
      "[CV 2/3] END depth=7, iterations=100, learning_rate=0.2; average_precision: (test=0.518) balanced_accuracy: (test=0.736) f1: (test=0.527) roc_auc: (test=0.830) total time=  16.3s\n",
      "[CV 3/3] END depth=7, iterations=140, learning_rate=0.15; average_precision: (test=0.513) balanced_accuracy: (test=0.718) f1: (test=0.508) roc_auc: (test=0.833) total time=  22.8s\n",
      "[CV 2/3] END depth=8, iterations=90, learning_rate=0.15; average_precision: (test=0.519) balanced_accuracy: (test=0.736) f1: (test=0.522) roc_auc: (test=0.839) total time=  21.1s\n",
      "[CV 3/3] END depth=8, iterations=120, learning_rate=0.1; average_precision: (test=0.503) balanced_accuracy: (test=0.722) f1: (test=0.502) roc_auc: (test=0.823) total time=  27.9s\n",
      "[CV 1/3] END depth=12, iterations=80, learning_rate=0.1; average_precision: (test=0.517) balanced_accuracy: (test=0.729) f1: (test=0.526) roc_auc: (test=0.817) total time=  56.4s\n",
      "[CV 3/3] END depth=12, iterations=90, learning_rate=0.2; average_precision: (test=0.472) balanced_accuracy: (test=0.677) f1: (test=0.464) roc_auc: (test=0.821) total time= 1.1min\n",
      "[CV 3/3] END depth=12, iterations=120, learning_rate=0.15; average_precision: (test=0.460) balanced_accuracy: (test=0.676) f1: (test=0.461) roc_auc: (test=0.825) total time= 1.3min\n",
      "[CV 1/3] END depth=6, iterations=80, learning_rate=0.15; average_precision: (test=0.590) balanced_accuracy: (test=0.679) f1: (test=0.595) roc_auc: (test=0.740) total time=  11.2s\n",
      "[CV 2/3] END depth=6, iterations=120, learning_rate=0.15; average_precision: (test=0.562) balanced_accuracy: (test=0.651) f1: (test=0.558) roc_auc: (test=0.704) total time=  13.1s\n",
      "[CV 3/3] END depth=6, iterations=140, learning_rate=0.2; average_precision: (test=0.617) balanced_accuracy: (test=0.675) f1: (test=0.583) roc_auc: (test=0.737) total time=  13.2s\n",
      "[CV 2/3] END depth=7, iterations=90, learning_rate=0.1; average_precision: (test=0.572) balanced_accuracy: (test=0.654) f1: (test=0.568) roc_auc: (test=0.714) total time=  14.2s\n",
      "[CV 3/3] END depth=7, iterations=120, learning_rate=0.15; average_precision: (test=0.605) balanced_accuracy: (test=0.680) f1: (test=0.589) roc_auc: (test=0.750) total time=  18.4s\n",
      "[CV 3/3] END depth=8, iterations=80, learning_rate=0.1; average_precision: (test=0.590) balanced_accuracy: (test=0.685) f1: (test=0.600) roc_auc: (test=0.741) total time=  16.5s\n",
      "[CV 3/3] END depth=8, iterations=90, learning_rate=0.15; average_precision: (test=0.604) balanced_accuracy: (test=0.680) f1: (test=0.587) roc_auc: (test=0.743) total time=  17.1s\n",
      "[CV 1/3] END depth=8, iterations=120, learning_rate=0.1; average_precision: (test=0.607) balanced_accuracy: (test=0.668) f1: (test=0.576) roc_auc: (test=0.748) total time=  22.3s\n",
      "[CV 3/3] END depth=8, iterations=140, learning_rate=0.2; average_precision: (test=0.620) balanced_accuracy: (test=0.683) f1: (test=0.588) roc_auc: (test=0.751) total time=  32.1s\n",
      "[CV 1/3] END depth=12, iterations=90, learning_rate=0.2; average_precision: (test=0.597) balanced_accuracy: (test=0.668) f1: (test=0.560) roc_auc: (test=0.733) total time= 1.1min\n",
      "[CV 2/3] END depth=12, iterations=120, learning_rate=0.15; average_precision: (test=0.567) balanced_accuracy: (test=0.643) f1: (test=0.529) roc_auc: (test=0.710) total time= 1.4min\n",
      "[CV 1/3] END depth=12, iterations=120, learning_rate=0.1; average_precision: (test=0.210) balanced_accuracy: (test=0.631) f1: (test=0.274) roc_auc: (test=0.774) total time= 1.5min\n",
      "[CV 3/3] END depth=12, iterations=140, learning_rate=0.2; average_precision: (test=0.234) balanced_accuracy: (test=0.621) f1: (test=0.280) roc_auc: (test=0.727) total time=  54.9s\n",
      "[CV 1/3] END depth=6, iterations=90, learning_rate=0.2; average_precision: (test=0.522) balanced_accuracy: (test=0.740) f1: (test=0.517) roc_auc: (test=0.819) total time=  11.9s\n",
      "[CV 1/3] END depth=6, iterations=120, learning_rate=0.15; average_precision: (test=0.520) balanced_accuracy: (test=0.751) f1: (test=0.535) roc_auc: (test=0.821) total time=  13.8s\n",
      "[CV 3/3] END depth=6, iterations=140, learning_rate=0.2; average_precision: (test=0.484) balanced_accuracy: (test=0.708) f1: (test=0.484) roc_auc: (test=0.818) total time=  15.6s\n",
      "[CV 2/3] END depth=7, iterations=90, learning_rate=0.2; average_precision: (test=0.522) balanced_accuracy: (test=0.744) f1: (test=0.532) roc_auc: (test=0.829) total time=  15.7s\n",
      "[CV 1/3] END depth=7, iterations=120, learning_rate=0.2; average_precision: (test=0.528) balanced_accuracy: (test=0.726) f1: (test=0.519) roc_auc: (test=0.823) total time=  21.9s\n",
      "[CV 3/3] END depth=8, iterations=80, learning_rate=0.15; average_precision: (test=0.499) balanced_accuracy: (test=0.725) f1: (test=0.503) roc_auc: (test=0.826) total time=  18.4s\n",
      "[CV 1/3] END depth=8, iterations=100, learning_rate=0.15; average_precision: (test=0.531) balanced_accuracy: (test=0.729) f1: (test=0.518) roc_auc: (test=0.820) total time=  23.0s\n",
      "[CV 3/3] END depth=8, iterations=120, learning_rate=0.2; average_precision: (test=0.467) balanced_accuracy: (test=0.691) f1: (test=0.476) roc_auc: (test=0.812) total time=  28.6s\n",
      "[CV 1/3] END depth=12, iterations=80, learning_rate=0.2; average_precision: (test=0.515) balanced_accuracy: (test=0.698) f1: (test=0.499) roc_auc: (test=0.823) total time=  58.8s\n",
      "[CV 2/3] END depth=12, iterations=100, learning_rate=0.15; average_precision: (test=0.489) balanced_accuracy: (test=0.689) f1: (test=0.484) roc_auc: (test=0.818) total time= 1.2min\n",
      "[CV 3/3] END depth=12, iterations=140, learning_rate=0.1; average_precision: (test=0.457) balanced_accuracy: (test=0.670) f1: (test=0.453) roc_auc: (test=0.823) total time= 1.4min\n",
      "[CV 3/3] END depth=6, iterations=80, learning_rate=0.2; average_precision: (test=0.596) balanced_accuracy: (test=0.662) f1: (test=0.575) roc_auc: (test=0.730) total time=  10.8s\n",
      "[CV 1/3] END depth=6, iterations=120, learning_rate=0.15; average_precision: (test=0.590) balanced_accuracy: (test=0.689) f1: (test=0.603) roc_auc: (test=0.744) total time=  13.6s\n",
      "[CV 1/3] END depth=7, iterations=80, learning_rate=0.1; average_precision: (test=0.610) balanced_accuracy: (test=0.664) f1: (test=0.581) roc_auc: (test=0.740) total time=  13.2s\n",
      "[CV 1/3] END depth=7, iterations=90, learning_rate=0.1; average_precision: (test=0.608) balanced_accuracy: (test=0.663) f1: (test=0.578) roc_auc: (test=0.740) total time=  13.3s\n",
      "[CV 3/3] END depth=7, iterations=100, learning_rate=0.2; average_precision: (test=0.619) balanced_accuracy: (test=0.695) f1: (test=0.606) roc_auc: (test=0.758) total time=  14.6s\n",
      "[CV 3/3] END depth=7, iterations=140, learning_rate=0.15; average_precision: (test=0.613) balanced_accuracy: (test=0.674) f1: (test=0.581) roc_auc: (test=0.750) total time=  21.0s\n",
      "[CV 2/3] END depth=8, iterations=90, learning_rate=0.15; average_precision: (test=0.569) balanced_accuracy: (test=0.650) f1: (test=0.553) roc_auc: (test=0.719) total time=  19.5s\n",
      "[CV 1/3] END depth=8, iterations=120, learning_rate=0.15; average_precision: (test=0.616) balanced_accuracy: (test=0.680) f1: (test=0.583) roc_auc: (test=0.749) total time=  25.2s\n",
      "[CV 3/3] END depth=12, iterations=80, learning_rate=0.1; average_precision: (test=0.606) balanced_accuracy: (test=0.679) f1: (test=0.583) roc_auc: (test=0.740) total time=  56.0s\n",
      "[CV 3/3] END depth=12, iterations=90, learning_rate=0.2; average_precision: (test=0.616) balanced_accuracy: (test=0.680) f1: (test=0.580) roc_auc: (test=0.739) total time= 1.1min\n",
      "[CV 1/3] END depth=12, iterations=120, learning_rate=0.2; average_precision: (test=0.595) balanced_accuracy: (test=0.668) f1: (test=0.559) roc_auc: (test=0.731) total time= 1.3min\n"
     ]
    },
    {
     "name": "stdout",
     "output_type": "stream",
     "text": [
      "[CV 1/3] END depth=12, iterations=100, learning_rate=0.15; average_precision: (test=0.197) balanced_accuracy: (test=0.610) f1: (test=0.248) roc_auc: (test=0.767) total time= 1.2min\n",
      "[CV 2/3] END depth=12, iterations=140, learning_rate=0.1; average_precision: (test=0.196) balanced_accuracy: (test=0.622) f1: (test=0.285) roc_auc: (test=0.749) total time= 1.4min\n",
      "[CV 1/3] END depth=6, iterations=90, learning_rate=0.1; average_precision: (test=0.492) balanced_accuracy: (test=0.742) f1: (test=0.489) roc_auc: (test=0.812) total time=  11.4s\n",
      "[CV 1/3] END depth=6, iterations=120, learning_rate=0.1; average_precision: (test=0.505) balanced_accuracy: (test=0.746) f1: (test=0.506) roc_auc: (test=0.814) total time=  15.2s\n",
      "[CV 2/3] END depth=7, iterations=80, learning_rate=0.1; average_precision: (test=0.555) balanced_accuracy: (test=0.754) f1: (test=0.511) roc_auc: (test=0.836) total time=  14.5s\n",
      "[CV 1/3] END depth=7, iterations=90, learning_rate=0.2; average_precision: (test=0.521) balanced_accuracy: (test=0.735) f1: (test=0.522) roc_auc: (test=0.823) total time=  13.6s\n",
      "[CV 3/3] END depth=7, iterations=120, learning_rate=0.1; average_precision: (test=0.507) balanced_accuracy: (test=0.738) f1: (test=0.513) roc_auc: (test=0.830) total time=  18.7s\n",
      "[CV 2/3] END depth=7, iterations=140, learning_rate=0.2; average_precision: (test=0.511) balanced_accuracy: (test=0.705) f1: (test=0.496) roc_auc: (test=0.827) total time=  23.7s\n",
      "[CV 3/3] END depth=8, iterations=100, learning_rate=0.1; average_precision: (test=0.504) balanced_accuracy: (test=0.728) f1: (test=0.506) roc_auc: (test=0.820) total time=  24.2s\n",
      "[CV 1/3] END depth=8, iterations=140, learning_rate=0.1; average_precision: (test=0.539) balanced_accuracy: (test=0.730) f1: (test=0.516) roc_auc: (test=0.826) total time=  34.1s\n",
      "[CV 3/3] END depth=12, iterations=80, learning_rate=0.2; average_precision: (test=0.472) balanced_accuracy: (test=0.686) f1: (test=0.477) roc_auc: (test=0.822) total time= 1.0min\n",
      "[CV 1/3] END depth=12, iterations=100, learning_rate=0.2; average_precision: (test=0.509) balanced_accuracy: (test=0.702) f1: (test=0.507) roc_auc: (test=0.822) total time= 1.2min\n",
      "[CV 2/3] END depth=12, iterations=140, learning_rate=0.15; average_precision: (test=0.485) balanced_accuracy: (test=0.686) f1: (test=0.483) roc_auc: (test=0.818) total time= 1.3min\n",
      "[CV 3/3] END depth=6, iterations=90, learning_rate=0.1; average_precision: (test=0.583) balanced_accuracy: (test=0.668) f1: (test=0.589) roc_auc: (test=0.745) total time=  10.2s\n",
      "[CV 1/3] END depth=6, iterations=100, learning_rate=0.15; average_precision: (test=0.594) balanced_accuracy: (test=0.693) f1: (test=0.607) roc_auc: (test=0.743) total time=  12.0s\n",
      "[CV 3/3] END depth=6, iterations=140, learning_rate=0.1; average_precision: (test=0.604) balanced_accuracy: (test=0.674) f1: (test=0.591) roc_auc: (test=0.749) total time=  15.2s\n",
      "[CV 3/3] END depth=7, iterations=80, learning_rate=0.2; average_precision: (test=0.612) balanced_accuracy: (test=0.693) f1: (test=0.605) roc_auc: (test=0.753) total time=  12.8s\n",
      "[CV 2/3] END depth=7, iterations=100, learning_rate=0.2; average_precision: (test=0.573) balanced_accuracy: (test=0.653) f1: (test=0.553) roc_auc: (test=0.716) total time=  15.3s\n",
      "[CV 1/3] END depth=7, iterations=140, learning_rate=0.2; average_precision: (test=0.602) balanced_accuracy: (test=0.677) f1: (test=0.580) roc_auc: (test=0.743) total time=  20.2s\n",
      "[CV 1/3] END depth=8, iterations=90, learning_rate=0.15; average_precision: (test=0.612) balanced_accuracy: (test=0.687) f1: (test=0.596) roc_auc: (test=0.747) total time=  19.0s\n",
      "[CV 3/3] END depth=8, iterations=120, learning_rate=0.1; average_precision: (test=0.611) balanced_accuracy: (test=0.684) f1: (test=0.596) roc_auc: (test=0.752) total time=  23.9s\n",
      "[CV 1/3] END depth=12, iterations=80, learning_rate=0.1; average_precision: (test=0.589) balanced_accuracy: (test=0.659) f1: (test=0.557) roc_auc: (test=0.735) total time=  55.8s\n",
      "[CV 2/3] END depth=12, iterations=90, learning_rate=0.2; average_precision: (test=0.567) balanced_accuracy: (test=0.645) f1: (test=0.531) roc_auc: (test=0.708) total time= 1.1min\n",
      "[CV 3/3] END depth=12, iterations=120, learning_rate=0.15; average_precision: (test=0.617) balanced_accuracy: (test=0.672) f1: (test=0.570) roc_auc: (test=0.744) total time= 1.3min\n",
      "[CV 3/3] END depth=12, iterations=100, learning_rate=0.2; average_precision: (test=0.239) balanced_accuracy: (test=0.617) f1: (test=0.269) roc_auc: (test=0.723) total time= 1.2min\n",
      "[CV 1/3] END depth=12, iterations=140, learning_rate=0.2; average_precision: (test=0.210) balanced_accuracy: (test=0.604) f1: (test=0.246) roc_auc: (test=0.759) total time= 1.2min\n",
      "[CV 2/3] END depth=6, iterations=90, learning_rate=0.15; average_precision: (test=0.506) balanced_accuracy: (test=0.754) f1: (test=0.516) roc_auc: (test=0.827) total time=  11.2s\n",
      "[CV 1/3] END depth=6, iterations=100, learning_rate=0.2; average_precision: (test=0.520) balanced_accuracy: (test=0.740) f1: (test=0.523) roc_auc: (test=0.817) total time=  14.3s\n",
      "[CV 2/3] END depth=6, iterations=140, learning_rate=0.2; average_precision: (test=0.531) balanced_accuracy: (test=0.727) f1: (test=0.510) roc_auc: (test=0.838) total time=  17.3s\n",
      "[CV 1/3] END depth=7, iterations=100, learning_rate=0.1; average_precision: (test=0.520) balanced_accuracy: (test=0.763) f1: (test=0.532) roc_auc: (test=0.821) total time=  14.4s\n",
      "[CV 2/3] END depth=7, iterations=120, learning_rate=0.2; average_precision: (test=0.519) balanced_accuracy: (test=0.722) f1: (test=0.515) roc_auc: (test=0.831) total time=  17.7s\n",
      "[CV 1/3] END depth=8, iterations=80, learning_rate=0.15; average_precision: (test=0.536) balanced_accuracy: (test=0.741) f1: (test=0.529) roc_auc: (test=0.823) total time=  16.5s\n",
      "[CV 3/3] END depth=8, iterations=90, learning_rate=0.15; average_precision: (test=0.501) balanced_accuracy: (test=0.729) f1: (test=0.511) roc_auc: (test=0.827) total time=  21.1s\n",
      "[CV 1/3] END depth=8, iterations=120, learning_rate=0.15; average_precision: (test=0.526) balanced_accuracy: (test=0.736) f1: (test=0.534) roc_auc: (test=0.821) total time=  27.9s\n",
      "[CV 3/3] END depth=12, iterations=80, learning_rate=0.1; average_precision: (test=0.469) balanced_accuracy: (test=0.690) f1: (test=0.475) roc_auc: (test=0.819) total time=  54.6s\n",
      "[CV 2/3] END depth=12, iterations=90, learning_rate=0.2; average_precision: (test=0.495) balanced_accuracy: (test=0.709) f1: (test=0.513) roc_auc: (test=0.819) total time= 1.1min\n",
      "[CV 1/3] END depth=12, iterations=120, learning_rate=0.2; average_precision: (test=0.506) balanced_accuracy: (test=0.695) f1: (test=0.498) roc_auc: (test=0.824) total time= 1.4min\n",
      "[CV 2/3] END depth=6, iterations=80, learning_rate=0.15; average_precision: (test=0.563) balanced_accuracy: (test=0.638) f1: (test=0.553) roc_auc: (test=0.707) total time=  10.7s\n",
      "[CV 2/3] END depth=6, iterations=120, learning_rate=0.1; average_precision: (test=0.574) balanced_accuracy: (test=0.654) f1: (test=0.569) roc_auc: (test=0.716) total time=  14.6s\n",
      "[CV 3/3] END depth=7, iterations=80, learning_rate=0.1; average_precision: (test=0.592) balanced_accuracy: (test=0.668) f1: (test=0.588) roc_auc: (test=0.742) total time=  12.9s\n",
      "[CV 3/3] END depth=7, iterations=90, learning_rate=0.15; average_precision: (test=0.591) balanced_accuracy: (test=0.672) f1: (test=0.582) roc_auc: (test=0.743) total time=  13.1s\n",
      "[CV 2/3] END depth=7, iterations=120, learning_rate=0.1; average_precision: (test=0.576) balanced_accuracy: (test=0.653) f1: (test=0.564) roc_auc: (test=0.713) total time=  18.5s\n",
      "[CV 2/3] END depth=8, iterations=80, learning_rate=0.1; average_precision: (test=0.575) balanced_accuracy: (test=0.657) f1: (test=0.567) roc_auc: (test=0.720) total time=  18.8s\n",
      "[CV 2/3] END depth=8, iterations=90, learning_rate=0.2; average_precision: (test=0.571) balanced_accuracy: (test=0.655) f1: (test=0.552) roc_auc: (test=0.710) total time=  20.4s\n",
      "[CV 1/3] END depth=8, iterations=120, learning_rate=0.2; average_precision: (test=0.595) balanced_accuracy: (test=0.675) f1: (test=0.576) roc_auc: (test=0.731) total time=  23.2s\n",
      "[CV 3/3] END depth=12, iterations=80, learning_rate=0.15; average_precision: (test=0.611) balanced_accuracy: (test=0.673) f1: (test=0.575) roc_auc: (test=0.743) total time=  55.9s\n",
      "[CV 3/3] END depth=12, iterations=100, learning_rate=0.1; average_precision: (test=0.610) balanced_accuracy: (test=0.675) f1: (test=0.576) roc_auc: (test=0.742) total time= 1.2min\n",
      "[CV 2/3] END depth=12, iterations=120, learning_rate=0.2; average_precision: (test=0.566) balanced_accuracy: (test=0.646) f1: (test=0.531) roc_auc: (test=0.705) total time= 1.3min\n"
     ]
    },
    {
     "name": "stdout",
     "output_type": "stream",
     "text": [
      "[CV 2/3] END depth=12, iterations=100, learning_rate=0.1; average_precision: (test=0.185) balanced_accuracy: (test=0.638) f1: (test=0.298) roc_auc: (test=0.748) total time= 1.2min\n",
      "[CV 1/3] END depth=12, iterations=140, learning_rate=0.1; average_precision: (test=0.212) balanced_accuracy: (test=0.621) f1: (test=0.264) roc_auc: (test=0.771) total time= 1.4min\n",
      "[CV 2/3] END depth=6, iterations=80, learning_rate=0.2; average_precision: (test=0.543) balanced_accuracy: (test=0.763) f1: (test=0.537) roc_auc: (test=0.836) total time=  11.3s\n",
      "[CV 2/3] END depth=6, iterations=100, learning_rate=0.15; average_precision: (test=0.526) balanced_accuracy: (test=0.756) f1: (test=0.524) roc_auc: (test=0.831) total time=  10.7s\n",
      "[CV 2/3] END depth=6, iterations=120, learning_rate=0.2; average_precision: (test=0.544) balanced_accuracy: (test=0.742) f1: (test=0.525) roc_auc: (test=0.837) total time=  14.9s\n",
      "[CV 3/3] END depth=7, iterations=80, learning_rate=0.15; average_precision: (test=0.519) balanced_accuracy: (test=0.726) f1: (test=0.494) roc_auc: (test=0.827) total time=  10.6s\n",
      "[CV 1/3] END depth=7, iterations=100, learning_rate=0.15; average_precision: (test=0.518) balanced_accuracy: (test=0.730) f1: (test=0.505) roc_auc: (test=0.822) total time=  17.1s\n",
      "[CV 2/3] END depth=7, iterations=140, learning_rate=0.1; average_precision: (test=0.552) balanced_accuracy: (test=0.753) f1: (test=0.529) roc_auc: (test=0.842) total time=  18.5s\n",
      "[CV 1/3] END depth=8, iterations=80, learning_rate=0.2; average_precision: (test=0.524) balanced_accuracy: (test=0.732) f1: (test=0.523) roc_auc: (test=0.825) total time=  19.2s\n",
      "[CV 3/3] END depth=8, iterations=100, learning_rate=0.15; average_precision: (test=0.501) balanced_accuracy: (test=0.724) f1: (test=0.511) roc_auc: (test=0.830) total time=  23.3s\n",
      "[CV 1/3] END depth=8, iterations=140, learning_rate=0.15; average_precision: (test=0.525) balanced_accuracy: (test=0.732) f1: (test=0.533) roc_auc: (test=0.819) total time=  30.7s\n",
      "[CV 1/3] END depth=12, iterations=90, learning_rate=0.1; average_precision: (test=0.518) balanced_accuracy: (test=0.722) f1: (test=0.520) roc_auc: (test=0.817) total time= 1.1min\n",
      "[CV 2/3] END depth=12, iterations=100, learning_rate=0.2; average_precision: (test=0.495) balanced_accuracy: (test=0.709) f1: (test=0.515) roc_auc: (test=0.819) total time= 1.2min\n",
      "[CV 3/3] END depth=12, iterations=140, learning_rate=0.15; average_precision: (test=0.460) balanced_accuracy: (test=0.680) f1: (test=0.468) roc_auc: (test=0.824) total time= 1.3min\n",
      "[CV 1/3] END depth=6, iterations=90, learning_rate=0.15; average_precision: (test=0.600) balanced_accuracy: (test=0.689) f1: (test=0.605) roc_auc: (test=0.743) total time=  10.4s\n",
      "[CV 2/3] END depth=6, iterations=100, learning_rate=0.2; average_precision: (test=0.565) balanced_accuracy: (test=0.644) f1: (test=0.551) roc_auc: (test=0.698) total time=  12.1s\n",
      "[CV 1/3] END depth=6, iterations=140, learning_rate=0.15; average_precision: (test=0.592) balanced_accuracy: (test=0.689) f1: (test=0.600) roc_auc: (test=0.744) total time=  15.2s\n",
      "[CV 1/3] END depth=7, iterations=90, learning_rate=0.15; average_precision: (test=0.598) balanced_accuracy: (test=0.669) f1: (test=0.580) roc_auc: (test=0.739) total time=  12.1s\n",
      "[CV 1/3] END depth=7, iterations=100, learning_rate=0.2; average_precision: (test=0.604) balanced_accuracy: (test=0.690) f1: (test=0.600) roc_auc: (test=0.746) total time=  15.4s\n",
      "[CV 2/3] END depth=7, iterations=140, learning_rate=0.15; average_precision: (test=0.567) balanced_accuracy: (test=0.656) f1: (test=0.557) roc_auc: (test=0.710) total time=  22.2s\n",
      "[CV 1/3] END depth=8, iterations=90, learning_rate=0.2; average_precision: (test=0.598) balanced_accuracy: (test=0.678) f1: (test=0.582) roc_auc: (test=0.734) total time=  19.2s\n",
      "[CV 3/3] END depth=8, iterations=120, learning_rate=0.15; average_precision: (test=0.613) balanced_accuracy: (test=0.679) f1: (test=0.585) roc_auc: (test=0.747) total time=  24.8s\n",
      "[CV 2/3] END depth=12, iterations=80, learning_rate=0.15; average_precision: (test=0.570) balanced_accuracy: (test=0.649) f1: (test=0.540) roc_auc: (test=0.711) total time=  57.3s\n",
      "[CV 1/3] END depth=12, iterations=100, learning_rate=0.15; average_precision: (test=0.599) balanced_accuracy: (test=0.664) f1: (test=0.557) roc_auc: (test=0.736) total time= 1.2min\n",
      "[CV 3/3] END depth=12, iterations=120, learning_rate=0.2; average_precision: (test=0.618) balanced_accuracy: (test=0.679) f1: (test=0.577) roc_auc: (test=0.742) total time= 1.3min\n",
      "[CV 1/3] END depth=12, iterations=100, learning_rate=0.1; average_precision: (test=0.204) balanced_accuracy: (test=0.634) f1: (test=0.277) roc_auc: (test=0.774) total time= 1.1min\n",
      "[CV 2/3] END depth=12, iterations=120, learning_rate=0.2; average_precision: (test=0.189) balanced_accuracy: (test=0.618) f1: (test=0.278) roc_auc: (test=0.737) total time= 1.3min\n",
      "[CV 3/3] END depth=6, iterations=80, learning_rate=0.15; average_precision: (test=0.489) balanced_accuracy: (test=0.717) f1: (test=0.470) roc_auc: (test=0.813) total time=   9.7s\n",
      "[CV 3/3] END depth=6, iterations=90, learning_rate=0.2; average_precision: (test=0.476) balanced_accuracy: (test=0.721) f1: (test=0.494) roc_auc: (test=0.809) total time=  11.2s\n",
      "[CV 1/3] END depth=6, iterations=120, learning_rate=0.2; average_precision: (test=0.521) balanced_accuracy: (test=0.741) f1: (test=0.531) roc_auc: (test=0.819) total time=  13.9s\n",
      "[CV 2/3] END depth=7, iterations=80, learning_rate=0.15; average_precision: (test=0.533) balanced_accuracy: (test=0.761) f1: (test=0.529) roc_auc: (test=0.841) total time=  11.1s\n",
      "[CV 2/3] END depth=7, iterations=100, learning_rate=0.1; average_precision: (test=0.547) balanced_accuracy: (test=0.764) f1: (test=0.530) roc_auc: (test=0.837) total time=  15.7s\n",
      "[CV 3/3] END depth=7, iterations=120, learning_rate=0.2; average_precision: (test=0.489) balanced_accuracy: (test=0.708) f1: (test=0.494) roc_auc: (test=0.813) total time=  22.3s\n",
      "[CV 2/3] END depth=8, iterations=80, learning_rate=0.2; average_precision: (test=0.511) balanced_accuracy: (test=0.722) f1: (test=0.503) roc_auc: (test=0.828) total time=  17.8s\n",
      "[CV 2/3] END depth=8, iterations=100, learning_rate=0.15; average_precision: (test=0.518) balanced_accuracy: (test=0.724) f1: (test=0.509) roc_auc: (test=0.838) total time=  21.2s\n",
      "[CV 3/3] END depth=8, iterations=140, learning_rate=0.1; average_precision: (test=0.494) balanced_accuracy: (test=0.711) f1: (test=0.493) roc_auc: (test=0.824) total time=  30.4s\n",
      "[CV 2/3] END depth=12, iterations=80, learning_rate=0.2; average_precision: (test=0.494) balanced_accuracy: (test=0.708) f1: (test=0.510) roc_auc: (test=0.819) total time=  59.6s\n",
      "[CV 3/3] END depth=12, iterations=100, learning_rate=0.15; average_precision: (test=0.465) balanced_accuracy: (test=0.684) f1: (test=0.472) roc_auc: (test=0.826) total time= 1.2min\n",
      "[CV 1/3] END depth=12, iterations=140, learning_rate=0.15; average_precision: (test=0.503) balanced_accuracy: (test=0.697) f1: (test=0.497) roc_auc: (test=0.811) total time= 1.3min\n",
      "[CV 2/3] END depth=6, iterations=90, learning_rate=0.1; average_precision: (test=0.574) balanced_accuracy: (test=0.646) f1: (test=0.566) roc_auc: (test=0.715) total time=  10.3s\n",
      "[CV 1/3] END depth=6, iterations=100, learning_rate=0.2; average_precision: (test=0.608) balanced_accuracy: (test=0.694) f1: (test=0.605) roc_auc: (test=0.749) total time=  13.6s\n",
      "[CV 1/3] END depth=6, iterations=140, learning_rate=0.2; average_precision: (test=0.604) balanced_accuracy: (test=0.683) f1: (test=0.590) roc_auc: (test=0.747) total time=  16.9s\n",
      "[CV 3/3] END depth=7, iterations=90, learning_rate=0.2; average_precision: (test=0.621) balanced_accuracy: (test=0.697) f1: (test=0.608) roc_auc: (test=0.758) total time=  14.0s\n",
      "[CV 1/3] END depth=7, iterations=120, learning_rate=0.2; average_precision: (test=0.601) balanced_accuracy: (test=0.686) f1: (test=0.593) roc_auc: (test=0.743) total time=  18.2s\n",
      "[CV 2/3] END depth=8, iterations=80, learning_rate=0.15; average_precision: (test=0.570) balanced_accuracy: (test=0.656) f1: (test=0.561) roc_auc: (test=0.719) total time=  17.0s\n",
      "[CV 3/3] END depth=8, iterations=100, learning_rate=0.1; average_precision: (test=0.597) balanced_accuracy: (test=0.684) f1: (test=0.597) roc_auc: (test=0.746) total time=  19.9s\n",
      "[CV 3/3] END depth=8, iterations=120, learning_rate=0.2; average_precision: (test=0.620) balanced_accuracy: (test=0.691) f1: (test=0.598) roc_auc: (test=0.753) total time=  25.7s\n",
      "[CV 1/3] END depth=12, iterations=80, learning_rate=0.2; average_precision: (test=0.597) balanced_accuracy: (test=0.666) f1: (test=0.558) roc_auc: (test=0.733) total time=  56.7s\n",
      "[CV 2/3] END depth=12, iterations=100, learning_rate=0.15; average_precision: (test=0.567) balanced_accuracy: (test=0.645) f1: (test=0.531) roc_auc: (test=0.710) total time= 1.2min\n",
      "[CV 3/3] END depth=12, iterations=140, learning_rate=0.1; average_precision: (test=0.615) balanced_accuracy: (test=0.673) f1: (test=0.571) roc_auc: (test=0.747) total time= 1.3min\n",
      "[CV 3/3] END depth=12, iterations=90, learning_rate=0.2; average_precision: (test=0.232) balanced_accuracy: (test=0.616) f1: (test=0.266) roc_auc: (test=0.725) total time=  57.5s\n",
      "[CV 1/3] END depth=12, iterations=120, learning_rate=0.2; average_precision: (test=0.209) balanced_accuracy: (test=0.608) f1: (test=0.252) roc_auc: (test=0.758) total time= 1.4min\n",
      "[CV 2/3] END depth=6, iterations=80, learning_rate=0.15; average_precision: (test=0.510) balanced_accuracy: (test=0.766) f1: (test=0.526) roc_auc: (test=0.828) total time=  11.0s\n",
      "[CV 2/3] END depth=6, iterations=100, learning_rate=0.1; average_precision: (test=0.518) balanced_accuracy: (test=0.748) f1: (test=0.500) roc_auc: (test=0.827) total time=  13.6s\n",
      "[CV 3/3] END depth=6, iterations=140, learning_rate=0.1; average_precision: (test=0.515) balanced_accuracy: (test=0.730) f1: (test=0.493) roc_auc: (test=0.820) total time=  16.5s\n",
      "[CV 3/3] END depth=7, iterations=90, learning_rate=0.15; average_precision: (test=0.524) balanced_accuracy: (test=0.727) f1: (test=0.503) roc_auc: (test=0.830) total time=  14.0s\n",
      "[CV 2/3] END depth=7, iterations=120, learning_rate=0.15; average_precision: (test=0.532) balanced_accuracy: (test=0.744) f1: (test=0.533) roc_auc: (test=0.842) total time=  19.2s\n",
      "[CV 2/3] END depth=8, iterations=80, learning_rate=0.1; average_precision: (test=0.506) balanced_accuracy: (test=0.738) f1: (test=0.499) roc_auc: (test=0.825) total time=  17.7s\n",
      "[CV 2/3] END depth=8, iterations=90, learning_rate=0.2; average_precision: (test=0.511) balanced_accuracy: (test=0.720) f1: (test=0.507) roc_auc: (test=0.829) total time=  22.2s\n",
      "[CV 1/3] END depth=8, iterations=120, learning_rate=0.2; average_precision: (test=0.519) balanced_accuracy: (test=0.718) f1: (test=0.517) roc_auc: (test=0.822) total time=  28.0s\n",
      "[CV 2/3] END depth=12, iterations=80, learning_rate=0.15; average_precision: (test=0.492) balanced_accuracy: (test=0.692) f1: (test=0.482) roc_auc: (test=0.820) total time=  59.8s\n",
      "[CV 2/3] END depth=12, iterations=100, learning_rate=0.1; average_precision: (test=0.508) balanced_accuracy: (test=0.703) f1: (test=0.496) roc_auc: (test=0.827) total time= 1.2min\n",
      "[CV 2/3] END depth=12, iterations=120, learning_rate=0.2; average_precision: (test=0.498) balanced_accuracy: (test=0.704) f1: (test=0.509) roc_auc: (test=0.820) total time= 1.3min\n",
      "[CV 3/3] END depth=6, iterations=80, learning_rate=0.15; average_precision: (test=0.599) balanced_accuracy: (test=0.673) f1: (test=0.591) roc_auc: (test=0.744) total time=  10.0s\n",
      "[CV 3/3] END depth=6, iterations=90, learning_rate=0.2; average_precision: (test=0.600) balanced_accuracy: (test=0.657) f1: (test=0.569) roc_auc: (test=0.733) total time=  12.0s\n",
      "[CV 2/3] END depth=6, iterations=140, learning_rate=0.1; average_precision: (test=0.576) balanced_accuracy: (test=0.650) f1: (test=0.562) roc_auc: (test=0.714) total time=  16.5s\n",
      "[CV 1/3] END depth=7, iterations=90, learning_rate=0.2; average_precision: (test=0.599) balanced_accuracy: (test=0.684) f1: (test=0.595) roc_auc: (test=0.742) total time=  12.8s\n",
      "[CV 1/3] END depth=7, iterations=120, learning_rate=0.1; average_precision: (test=0.608) balanced_accuracy: (test=0.672) f1: (test=0.584) roc_auc: (test=0.743) total time=  17.7s\n",
      "[CV 2/3] END depth=7, iterations=140, learning_rate=0.2; average_precision: (test=0.572) balanced_accuracy: (test=0.651) f1: (test=0.547) roc_auc: (test=0.710) total time=  19.7s\n",
      "[CV 3/3] END depth=8, iterations=90, learning_rate=0.2; average_precision: (test=0.618) balanced_accuracy: (test=0.699) f1: (test=0.608) roc_auc: (test=0.753) total time=  17.7s\n",
      "[CV 2/3] END depth=8, iterations=120, learning_rate=0.15; average_precision: (test=0.566) balanced_accuracy: (test=0.650) f1: (test=0.549) roc_auc: (test=0.715) total time=  22.4s\n",
      "[CV 2/3] END depth=12, iterations=80, learning_rate=0.1; average_precision: (test=0.566) balanced_accuracy: (test=0.665) f1: (test=0.565) roc_auc: (test=0.720) total time=  58.3s\n",
      "[CV 1/3] END depth=12, iterations=100, learning_rate=0.1; average_precision: (test=0.599) balanced_accuracy: (test=0.664) f1: (test=0.561) roc_auc: (test=0.741) total time= 1.2min\n",
      "[CV 2/3] END depth=12, iterations=140, learning_rate=0.1; average_precision: (test=0.570) balanced_accuracy: (test=0.645) f1: (test=0.532) roc_auc: (test=0.716) total time= 1.4min\n"
     ]
    },
    {
     "name": "stdout",
     "output_type": "stream",
     "text": [
      "[CV 1/3] END depth=12, iterations=120, learning_rate=0.15; average_precision: (test=0.196) balanced_accuracy: (test=0.602) f1: (test=0.236) roc_auc: (test=0.769) total time= 1.5min\n",
      "[CV 2/3] END depth=6, iterations=80, learning_rate=0.1; average_precision: (test=0.507) balanced_accuracy: (test=0.751) f1: (test=0.495) roc_auc: (test=0.824) total time=  11.1s\n",
      "[CV 1/3] END depth=6, iterations=100, learning_rate=0.15; average_precision: (test=0.524) balanced_accuracy: (test=0.758) f1: (test=0.538) roc_auc: (test=0.822) total time=  13.5s\n",
      "[CV 2/3] END depth=6, iterations=140, learning_rate=0.1; average_precision: (test=0.537) balanced_accuracy: (test=0.742) f1: (test=0.504) roc_auc: (test=0.827) total time=  16.3s\n",
      "[CV 1/3] END depth=7, iterations=90, learning_rate=0.15; average_precision: (test=0.505) balanced_accuracy: (test=0.733) f1: (test=0.506) roc_auc: (test=0.813) total time=  14.0s\n",
      "[CV 1/3] END depth=7, iterations=120, learning_rate=0.15; average_precision: (test=0.524) balanced_accuracy: (test=0.729) f1: (test=0.513) roc_auc: (test=0.823) total time=  19.2s\n",
      "[CV 1/3] END depth=8, iterations=80, learning_rate=0.1; average_precision: (test=0.521) balanced_accuracy: (test=0.749) f1: (test=0.514) roc_auc: (test=0.819) total time=  16.0s\n",
      "[CV 1/3] END depth=8, iterations=90, learning_rate=0.15; average_precision: (test=0.533) balanced_accuracy: (test=0.736) f1: (test=0.525) roc_auc: (test=0.821) total time=  18.8s\n",
      "[CV 3/3] END depth=8, iterations=100, learning_rate=0.2; average_precision: (test=0.465) balanced_accuracy: (test=0.692) f1: (test=0.471) roc_auc: (test=0.810) total time=  23.2s\n",
      "[CV 3/3] END depth=8, iterations=140, learning_rate=0.15; average_precision: (test=0.496) balanced_accuracy: (test=0.712) f1: (test=0.503) roc_auc: (test=0.830) total time=  31.5s\n",
      "[CV 1/3] END depth=12, iterations=90, learning_rate=0.15; average_precision: (test=0.507) balanced_accuracy: (test=0.706) f1: (test=0.506) roc_auc: (test=0.812) total time= 1.1min\n",
      "[CV 2/3] END depth=12, iterations=120, learning_rate=0.1; average_precision: (test=0.507) balanced_accuracy: (test=0.699) f1: (test=0.496) roc_auc: (test=0.827) total time= 1.5min\n",
      "[CV 3/3] END depth=12, iterations=140, learning_rate=0.2; average_precision: (test=0.460) balanced_accuracy: (test=0.667) f1: (test=0.451) roc_auc: (test=0.822) total time=  48.6s\n",
      "[CV 3/3] END depth=6, iterations=90, learning_rate=0.15; average_precision: (test=0.607) balanced_accuracy: (test=0.674) f1: (test=0.590) roc_auc: (test=0.748) total time=  10.6s\n",
      "[CV 3/3] END depth=6, iterations=120, learning_rate=0.1; average_precision: (test=0.596) balanced_accuracy: (test=0.674) f1: (test=0.593) roc_auc: (test=0.749) total time=  13.8s\n",
      "[CV 2/3] END depth=7, iterations=80, learning_rate=0.1; average_precision: (test=0.569) balanced_accuracy: (test=0.660) f1: (test=0.575) roc_auc: (test=0.716) total time=  13.2s\n",
      "[CV 3/3] END depth=7, iterations=90, learning_rate=0.1; average_precision: (test=0.590) balanced_accuracy: (test=0.674) f1: (test=0.593) roc_auc: (test=0.743) total time=  14.0s\n",
      "[CV 2/3] END depth=7, iterations=120, learning_rate=0.15; average_precision: (test=0.574) balanced_accuracy: (test=0.652) f1: (test=0.554) roc_auc: (test=0.710) total time=  17.7s\n",
      "[CV 3/3] END depth=7, iterations=140, learning_rate=0.2; average_precision: (test=0.625) balanced_accuracy: (test=0.689) f1: (test=0.596) roc_auc: (test=0.758) total time=  20.0s\n",
      "[CV 2/3] END depth=8, iterations=100, learning_rate=0.1; average_precision: (test=0.573) balanced_accuracy: (test=0.665) f1: (test=0.571) roc_auc: (test=0.722) total time=  20.6s\n",
      "[CV 2/3] END depth=8, iterations=120, learning_rate=0.2; average_precision: (test=0.570) balanced_accuracy: (test=0.650) f1: (test=0.543) roc_auc: (test=0.711) total time=  21.2s\n",
      "[CV 1/3] END depth=12, iterations=80, learning_rate=0.15; average_precision: (test=0.598) balanced_accuracy: (test=0.662) f1: (test=0.556) roc_auc: (test=0.736) total time=  56.7s\n",
      "[CV 2/3] END depth=12, iterations=100, learning_rate=0.1; average_precision: (test=0.567) balanced_accuracy: (test=0.657) f1: (test=0.552) roc_auc: (test=0.718) total time= 1.2min\n",
      "[CV 1/3] END depth=12, iterations=140, learning_rate=0.1; average_precision: (test=0.601) balanced_accuracy: (test=0.668) f1: (test=0.562) roc_auc: (test=0.739) total time= 1.4min\n",
      "[CV 2/3] END depth=12, iterations=90, learning_rate=0.2; average_precision: (test=0.191) balanced_accuracy: (test=0.626) f1: (test=0.289) roc_auc: (test=0.738) total time=  58.0s\n",
      "[CV 3/3] END depth=12, iterations=120, learning_rate=0.15; average_precision: (test=0.255) balanced_accuracy: (test=0.616) f1: (test=0.268) roc_auc: (test=0.743) total time= 1.4min\n",
      "[CV 1/3] END depth=6, iterations=80, learning_rate=0.15; average_precision: (test=0.509) balanced_accuracy: (test=0.759) f1: (test=0.527) roc_auc: (test=0.817) total time=  11.5s\n",
      "[CV 3/3] END depth=6, iterations=100, learning_rate=0.2; average_precision: (test=0.476) balanced_accuracy: (test=0.724) f1: (test=0.500) roc_auc: (test=0.812) total time=  13.4s\n",
      "[CV 3/3] END depth=6, iterations=140, learning_rate=0.15; average_precision: (test=0.513) balanced_accuracy: (test=0.719) f1: (test=0.493) roc_auc: (test=0.824) total time=  15.9s\n",
      "[CV 3/3] END depth=7, iterations=90, learning_rate=0.1; average_precision: (test=0.499) balanced_accuracy: (test=0.733) f1: (test=0.493) roc_auc: (test=0.821) total time=  13.5s\n",
      "[CV 3/3] END depth=7, iterations=100, learning_rate=0.2; average_precision: (test=0.495) balanced_accuracy: (test=0.710) f1: (test=0.492) roc_auc: (test=0.813) total time=  17.6s\n",
      "[CV 1/3] END depth=7, iterations=140, learning_rate=0.2; average_precision: (test=0.529) balanced_accuracy: (test=0.731) f1: (test=0.529) roc_auc: (test=0.822) total time=  23.7s\n",
      "[CV 1/3] END depth=8, iterations=100, learning_rate=0.1; average_precision: (test=0.535) balanced_accuracy: (test=0.748) f1: (test=0.519) roc_auc: (test=0.823) total time=  23.5s\n",
      "[CV 2/3] END depth=8, iterations=120, learning_rate=0.2; average_precision: (test=0.515) balanced_accuracy: (test=0.717) f1: (test=0.509) roc_auc: (test=0.831) total time=  27.4s\n",
      "[CV 3/3] END depth=12, iterations=80, learning_rate=0.15; average_precision: (test=0.473) balanced_accuracy: (test=0.685) f1: (test=0.471) roc_auc: (test=0.827) total time=  59.1s\n",
      "[CV 1/3] END depth=12, iterations=100, learning_rate=0.15; average_precision: (test=0.504) balanced_accuracy: (test=0.707) f1: (test=0.508) roc_auc: (test=0.811) total time= 1.2min\n",
      "[CV 1/3] END depth=12, iterations=140, learning_rate=0.1; average_precision: (test=0.519) balanced_accuracy: (test=0.701) f1: (test=0.498) roc_auc: (test=0.820) total time= 1.4min\n",
      "[CV 2/3] END depth=6, iterations=80, learning_rate=0.2; average_precision: (test=0.560) balanced_accuracy: (test=0.641) f1: (test=0.549) roc_auc: (test=0.697) total time=  10.2s\n",
      "[CV 2/3] END depth=6, iterations=100, learning_rate=0.15; average_precision: (test=0.559) balanced_accuracy: (test=0.643) f1: (test=0.553) roc_auc: (test=0.703) total time=  13.2s\n",
      "[CV 2/3] END depth=6, iterations=140, learning_rate=0.15; average_precision: (test=0.564) balanced_accuracy: (test=0.655) f1: (test=0.561) roc_auc: (test=0.706) total time=  14.4s\n",
      "[CV 2/3] END depth=7, iterations=90, learning_rate=0.15; average_precision: (test=0.573) balanced_accuracy: (test=0.649) f1: (test=0.554) roc_auc: (test=0.711) total time=  13.7s\n",
      "[CV 3/3] END depth=7, iterations=120, learning_rate=0.1; average_precision: (test=0.599) balanced_accuracy: (test=0.676) f1: (test=0.591) roc_auc: (test=0.748) total time=  19.9s\n",
      "[CV 1/3] END depth=8, iterations=80, learning_rate=0.15; average_precision: (test=0.612) balanced_accuracy: (test=0.685) f1: (test=0.595) roc_auc: (test=0.746) total time=  17.9s\n",
      "[CV 1/3] END depth=8, iterations=100, learning_rate=0.1; average_precision: (test=0.602) balanced_accuracy: (test=0.684) f1: (test=0.596) roc_auc: (test=0.744) total time=  21.0s\n",
      "[CV 1/3] END depth=8, iterations=140, learning_rate=0.1; average_precision: (test=0.611) balanced_accuracy: (test=0.670) f1: (test=0.576) roc_auc: (test=0.747) total time=  28.8s\n",
      "[CV 2/3] END depth=12, iterations=80, learning_rate=0.2; average_precision: (test=0.566) balanced_accuracy: (test=0.644) f1: (test=0.531) roc_auc: (test=0.709) total time=  58.8s\n",
      "[CV 3/3] END depth=12, iterations=100, learning_rate=0.15; average_precision: (test=0.615) balanced_accuracy: (test=0.669) f1: (test=0.568) roc_auc: (test=0.745) total time= 1.2min\n",
      "[CV 1/3] END depth=12, iterations=140, learning_rate=0.15; average_precision: (test=0.597) balanced_accuracy: (test=0.660) f1: (test=0.549) roc_auc: (test=0.736) total time= 1.3min\n"
     ]
    },
    {
     "name": "stdout",
     "output_type": "stream",
     "text": [
      "[CV 2/3] END depth=12, iterations=120, learning_rate=0.15; average_precision: (test=0.195) balanced_accuracy: (test=0.623) f1: (test=0.288) roc_auc: (test=0.739) total time= 1.5min\n",
      "[CV 3/3] END depth=6, iterations=80, learning_rate=0.1; average_precision: (test=0.480) balanced_accuracy: (test=0.726) f1: (test=0.473) roc_auc: (test=0.807) total time=  11.5s\n",
      "[CV 2/3] END depth=6, iterations=100, learning_rate=0.2; average_precision: (test=0.550) balanced_accuracy: (test=0.758) f1: (test=0.539) roc_auc: (test=0.837) total time=  13.4s\n",
      "[CV 2/3] END depth=6, iterations=140, learning_rate=0.15; average_precision: (test=0.518) balanced_accuracy: (test=0.712) f1: (test=0.481) roc_auc: (test=0.829) total time=  16.6s\n",
      "[CV 3/3] END depth=7, iterations=90, learning_rate=0.2; average_precision: (test=0.501) balanced_accuracy: (test=0.709) f1: (test=0.489) roc_auc: (test=0.814) total time=  14.4s\n",
      "[CV 3/3] END depth=7, iterations=120, learning_rate=0.15; average_precision: (test=0.514) balanced_accuracy: (test=0.729) f1: (test=0.517) roc_auc: (test=0.832) total time=  21.7s\n",
      "[CV 2/3] END depth=8, iterations=80, learning_rate=0.15; average_precision: (test=0.527) balanced_accuracy: (test=0.749) f1: (test=0.530) roc_auc: (test=0.837) total time=  15.5s\n",
      "[CV 3/3] END depth=8, iterations=90, learning_rate=0.2; average_precision: (test=0.465) balanced_accuracy: (test=0.706) f1: (test=0.488) roc_auc: (test=0.809) total time=  19.7s\n",
      "[CV 2/3] END depth=8, iterations=120, learning_rate=0.15; average_precision: (test=0.518) balanced_accuracy: (test=0.718) f1: (test=0.508) roc_auc: (test=0.836) total time=  27.7s\n",
      "[CV 2/3] END depth=12, iterations=80, learning_rate=0.1; average_precision: (test=0.511) balanced_accuracy: (test=0.714) f1: (test=0.507) roc_auc: (test=0.826) total time= 1.0min\n",
      "[CV 3/3] END depth=12, iterations=100, learning_rate=0.1; average_precision: (test=0.460) balanced_accuracy: (test=0.682) f1: (test=0.467) roc_auc: (test=0.819) total time= 1.3min\n",
      "[CV 2/3] END depth=12, iterations=140, learning_rate=0.1; average_precision: (test=0.506) balanced_accuracy: (test=0.706) f1: (test=0.511) roc_auc: (test=0.828) total time= 1.4min\n",
      "[CV 1/3] END depth=6, iterations=90, learning_rate=0.1; average_precision: (test=0.603) balanced_accuracy: (test=0.668) f1: (test=0.589) roc_auc: (test=0.738) total time=  10.5s\n",
      "[CV 1/3] END depth=6, iterations=120, learning_rate=0.1; average_precision: (test=0.608) balanced_accuracy: (test=0.669) f1: (test=0.586) roc_auc: (test=0.741) total time=  13.8s\n",
      "[CV 2/3] END depth=6, iterations=140, learning_rate=0.2; average_precision: (test=0.569) balanced_accuracy: (test=0.643) f1: (test=0.543) roc_auc: (test=0.703) total time=  16.6s\n",
      "[CV 1/3] END depth=7, iterations=100, learning_rate=0.1; average_precision: (test=0.609) balanced_accuracy: (test=0.679) f1: (test=0.594) roc_auc: (test=0.742) total time=  16.5s\n",
      "[CV 2/3] END depth=7, iterations=120, learning_rate=0.2; average_precision: (test=0.579) balanced_accuracy: (test=0.661) f1: (test=0.560) roc_auc: (test=0.716) total time=  17.4s\n",
      "[CV 3/3] END depth=8, iterations=80, learning_rate=0.15; average_precision: (test=0.596) balanced_accuracy: (test=0.679) f1: (test=0.589) roc_auc: (test=0.746) total time=  17.4s\n",
      "[CV 1/3] END depth=8, iterations=100, learning_rate=0.15; average_precision: (test=0.616) balanced_accuracy: (test=0.685) f1: (test=0.592) roc_auc: (test=0.749) total time=  19.1s\n",
      "[CV 2/3] END depth=8, iterations=140, learning_rate=0.1; average_precision: (test=0.568) balanced_accuracy: (test=0.660) f1: (test=0.561) roc_auc: (test=0.718) total time=  29.3s\n",
      "[CV 3/3] END depth=12, iterations=80, learning_rate=0.2; average_precision: (test=0.615) balanced_accuracy: (test=0.680) f1: (test=0.580) roc_auc: (test=0.740) total time=  58.2s\n",
      "[CV 1/3] END depth=12, iterations=100, learning_rate=0.2; average_precision: (test=0.597) balanced_accuracy: (test=0.672) f1: (test=0.565) roc_auc: (test=0.732) total time= 1.2min\n",
      "[CV 2/3] END depth=12, iterations=140, learning_rate=0.15; average_precision: (test=0.567) balanced_accuracy: (test=0.645) f1: (test=0.531) roc_auc: (test=0.709) total time= 1.2min\n",
      "[CV 2/3] END depth=12, iterations=100, learning_rate=0.15; average_precision: (test=0.190) balanced_accuracy: (test=0.614) f1: (test=0.268) roc_auc: (test=0.738) total time= 1.2min\n",
      "[CV 3/3] END depth=12, iterations=140, learning_rate=0.1; average_precision: (test=0.245) balanced_accuracy: (test=0.623) f1: (test=0.273) roc_auc: (test=0.750) total time= 1.4min\n",
      "[CV 3/3] END depth=6, iterations=80, learning_rate=0.2; average_precision: (test=0.474) balanced_accuracy: (test=0.725) f1: (test=0.494) roc_auc: (test=0.811) total time=   9.9s\n",
      "[CV 1/3] END depth=6, iterations=100, learning_rate=0.1; average_precision: (test=0.507) balanced_accuracy: (test=0.753) f1: (test=0.508) roc_auc: (test=0.813) total time=  13.1s\n",
      "[CV 3/3] END depth=6, iterations=120, learning_rate=0.2; average_precision: (test=0.477) balanced_accuracy: (test=0.712) f1: (test=0.488) roc_auc: (test=0.814) total time=  14.9s\n",
      "[CV 1/3] END depth=7, iterations=80, learning_rate=0.2; average_precision: (test=0.521) balanced_accuracy: (test=0.738) f1: (test=0.521) roc_auc: (test=0.823) total time=  12.4s\n",
      "[CV 2/3] END depth=7, iterations=100, learning_rate=0.15; average_precision: (test=0.533) balanced_accuracy: (test=0.752) f1: (test=0.530) roc_auc: (test=0.841) total time=  14.7s\n",
      "[CV 3/3] END depth=7, iterations=140, learning_rate=0.1; average_precision: (test=0.505) balanced_accuracy: (test=0.739) f1: (test=0.521) roc_auc: (test=0.829) total time=  23.0s\n",
      "[CV 1/3] END depth=8, iterations=90, learning_rate=0.1; average_precision: (test=0.524) balanced_accuracy: (test=0.747) f1: (test=0.516) roc_auc: (test=0.819) total time=  20.0s\n",
      "[CV 2/3] END depth=8, iterations=100, learning_rate=0.2; average_precision: (test=0.516) balanced_accuracy: (test=0.726) f1: (test=0.516) roc_auc: (test=0.830) total time=  25.6s\n",
      "[CV 1/3] END depth=8, iterations=140, learning_rate=0.2; average_precision: (test=0.518) balanced_accuracy: (test=0.718) f1: (test=0.520) roc_auc: (test=0.822) total time=  32.6s\n",
      "[CV 2/3] END depth=12, iterations=90, learning_rate=0.15; average_precision: (test=0.491) balanced_accuracy: (test=0.697) f1: (test=0.492) roc_auc: (test=0.820) total time= 1.1min\n",
      "[CV 3/3] END depth=12, iterations=120, learning_rate=0.1; average_precision: (test=0.460) balanced_accuracy: (test=0.685) f1: (test=0.473) roc_auc: (test=0.821) total time= 1.5min\n",
      "[CV 1/3] END depth=6, iterations=80, learning_rate=0.1; average_precision: (test=0.604) balanced_accuracy: (test=0.664) f1: (test=0.586) roc_auc: (test=0.738) total time=  10.1s\n",
      "[CV 2/3] END depth=6, iterations=100, learning_rate=0.1; average_precision: (test=0.571) balanced_accuracy: (test=0.649) f1: (test=0.567) roc_auc: (test=0.711) total time=  11.0s\n",
      "[CV 2/3] END depth=6, iterations=120, learning_rate=0.2; average_precision: (test=0.576) balanced_accuracy: (test=0.646) f1: (test=0.549) roc_auc: (test=0.705) total time=  12.9s\n",
      "[CV 1/3] END depth=7, iterations=80, learning_rate=0.15; average_precision: (test=0.595) balanced_accuracy: (test=0.675) f1: (test=0.588) roc_auc: (test=0.739) total time=  10.5s\n",
      "[CV 2/3] END depth=7, iterations=100, learning_rate=0.1; average_precision: (test=0.577) balanced_accuracy: (test=0.656) f1: (test=0.569) roc_auc: (test=0.716) total time=  14.0s\n",
      "[CV 3/3] END depth=7, iterations=120, learning_rate=0.2; average_precision: (test=0.623) balanced_accuracy: (test=0.699) f1: (test=0.609) roc_auc: (test=0.759) total time=  20.2s\n",
      "[CV 1/3] END depth=8, iterations=80, learning_rate=0.2; average_precision: (test=0.598) balanced_accuracy: (test=0.675) f1: (test=0.580) roc_auc: (test=0.735) total time=  15.1s\n",
      "[CV 2/3] END depth=8, iterations=100, learning_rate=0.15; average_precision: (test=0.570) balanced_accuracy: (test=0.650) f1: (test=0.551) roc_auc: (test=0.718) total time=  22.5s\n",
      "[CV 3/3] END depth=8, iterations=140, learning_rate=0.1; average_precision: (test=0.616) balanced_accuracy: (test=0.688) f1: (test=0.599) roc_auc: (test=0.752) total time=  29.5s\n",
      "[CV 1/3] END depth=12, iterations=90, learning_rate=0.1; average_precision: (test=0.593) balanced_accuracy: (test=0.666) f1: (test=0.564) roc_auc: (test=0.738) total time= 1.1min\n",
      "[CV 2/3] END depth=12, iterations=100, learning_rate=0.2; average_precision: (test=0.566) balanced_accuracy: (test=0.647) f1: (test=0.535) roc_auc: (test=0.705) total time= 1.2min\n",
      "[CV 3/3] END depth=12, iterations=140, learning_rate=0.15; average_precision: (test=0.620) balanced_accuracy: (test=0.669) f1: (test=0.566) roc_auc: (test=0.745) total time= 1.1min\n"
     ]
    },
    {
     "name": "stdout",
     "output_type": "stream",
     "text": [
      "[CV 3/3] END depth=12, iterations=120, learning_rate=0.1; average_precision: (test=0.249) balanced_accuracy: (test=0.630) f1: (test=0.284) roc_auc: (test=0.750) total time= 1.5min\n",
      "[CV 1/3] END depth=6, iterations=80, learning_rate=0.1; average_precision: (test=0.487) balanced_accuracy: (test=0.734) f1: (test=0.478) roc_auc: (test=0.809) total time=  11.1s\n",
      "[CV 3/3] END depth=6, iterations=100, learning_rate=0.1; average_precision: (test=0.493) balanced_accuracy: (test=0.731) f1: (test=0.483) roc_auc: (test=0.812) total time=  13.2s\n",
      "[CV 1/3] END depth=6, iterations=140, learning_rate=0.1; average_precision: (test=0.509) balanced_accuracy: (test=0.744) f1: (test=0.515) roc_auc: (test=0.815) total time=  15.5s\n",
      "[CV 3/3] END depth=7, iterations=80, learning_rate=0.2; average_precision: (test=0.500) balanced_accuracy: (test=0.720) f1: (test=0.497) roc_auc: (test=0.812) total time=  10.8s\n",
      "[CV 3/3] END depth=7, iterations=100, learning_rate=0.15; average_precision: (test=0.517) balanced_accuracy: (test=0.724) f1: (test=0.507) roc_auc: (test=0.831) total time=  17.2s\n",
      "[CV 2/3] END depth=7, iterations=140, learning_rate=0.15; average_precision: (test=0.524) balanced_accuracy: (test=0.737) f1: (test=0.531) roc_auc: (test=0.842) total time=  22.3s\n",
      "[CV 3/3] END depth=8, iterations=90, learning_rate=0.1; average_precision: (test=0.502) balanced_accuracy: (test=0.724) f1: (test=0.496) roc_auc: (test=0.819) total time=  19.3s\n",
      "[CV 1/3] END depth=8, iterations=120, learning_rate=0.1; average_precision: (test=0.539) balanced_accuracy: (test=0.736) f1: (test=0.516) roc_auc: (test=0.823) total time=  27.2s\n",
      "[CV 2/3] END depth=8, iterations=140, learning_rate=0.2; average_precision: (test=0.509) balanced_accuracy: (test=0.711) f1: (test=0.505) roc_auc: (test=0.830) total time=  33.8s\n",
      "[CV 3/3] END depth=12, iterations=90, learning_rate=0.15; average_precision: (test=0.468) balanced_accuracy: (test=0.683) f1: (test=0.469) roc_auc: (test=0.827) total time= 1.1min\n",
      "[CV 1/3] END depth=12, iterations=120, learning_rate=0.15; average_precision: (test=0.502) balanced_accuracy: (test=0.705) f1: (test=0.508) roc_auc: (test=0.811) total time= 1.5min\n",
      "[CV 2/3] END depth=6, iterations=80, learning_rate=0.1; average_precision: (test=0.570) balanced_accuracy: (test=0.648) f1: (test=0.569) roc_auc: (test=0.715) total time=   9.8s\n",
      "[CV 2/3] END depth=6, iterations=90, learning_rate=0.2; average_precision: (test=0.563) balanced_accuracy: (test=0.639) f1: (test=0.548) roc_auc: (test=0.696) total time=  11.5s\n",
      "[CV 3/3] END depth=6, iterations=120, learning_rate=0.2; average_precision: (test=0.612) balanced_accuracy: (test=0.666) f1: (test=0.575) roc_auc: (test=0.735) total time=  13.2s\n",
      "[CV 2/3] END depth=7, iterations=80, learning_rate=0.15; average_precision: (test=0.572) balanced_accuracy: (test=0.651) f1: (test=0.560) roc_auc: (test=0.710) total time=  13.2s\n",
      "[CV 1/3] END depth=7, iterations=100, learning_rate=0.15; average_precision: (test=0.600) balanced_accuracy: (test=0.670) f1: (test=0.581) roc_auc: (test=0.739) total time=  15.5s\n",
      "[CV 3/3] END depth=7, iterations=140, learning_rate=0.1; average_precision: (test=0.601) balanced_accuracy: (test=0.678) f1: (test=0.591) roc_auc: (test=0.747) total time=  20.3s\n",
      "[CV 2/3] END depth=8, iterations=80, learning_rate=0.2; average_precision: (test=0.557) balanced_accuracy: (test=0.649) f1: (test=0.547) roc_auc: (test=0.707) total time=  19.2s\n",
      "[CV 2/3] END depth=8, iterations=100, learning_rate=0.2; average_precision: (test=0.571) balanced_accuracy: (test=0.649) f1: (test=0.545) roc_auc: (test=0.710) total time=  17.6s\n",
      "[CV 1/3] END depth=8, iterations=140, learning_rate=0.15; average_precision: (test=0.613) balanced_accuracy: (test=0.671) f1: (test=0.569) roc_auc: (test=0.746) total time=  28.4s\n",
      "[CV 3/3] END depth=12, iterations=90, learning_rate=0.1; average_precision: (test=0.606) balanced_accuracy: (test=0.679) f1: (test=0.583) roc_auc: (test=0.741) total time= 1.1min\n",
      "[CV 3/3] END depth=12, iterations=100, learning_rate=0.2; average_precision: (test=0.617) balanced_accuracy: (test=0.678) f1: (test=0.577) roc_auc: (test=0.739) total time= 1.2min\n",
      "[CV 1/3] END depth=12, iterations=140, learning_rate=0.2; average_precision: (test=0.595) balanced_accuracy: (test=0.664) f1: (test=0.554) roc_auc: (test=0.731) total time= 1.1min\n",
      "[CV 1/3] END depth=12, iterations=100, learning_rate=0.2; average_precision: (test=0.210) balanced_accuracy: (test=0.608) f1: (test=0.250) roc_auc: (test=0.758) total time= 1.3min\n",
      "[CV 3/3] END depth=12, iterations=140, learning_rate=0.15; average_precision: (test=0.256) balanced_accuracy: (test=0.617) f1: (test=0.272) roc_auc: (test=0.744) total time= 1.2min\n",
      "[CV 1/3] END depth=6, iterations=90, learning_rate=0.15; average_precision: (test=0.520) balanced_accuracy: (test=0.757) f1: (test=0.530) roc_auc: (test=0.820) total time=  11.3s\n",
      "[CV 3/3] END depth=6, iterations=100, learning_rate=0.15; average_precision: (test=0.506) balanced_accuracy: (test=0.717) f1: (test=0.480) roc_auc: (test=0.819) total time=  13.4s\n",
      "[CV 1/3] END depth=6, iterations=140, learning_rate=0.15; average_precision: (test=0.522) balanced_accuracy: (test=0.740) f1: (test=0.526) roc_auc: (test=0.820) total time=  15.5s\n",
      "[CV 1/3] END depth=7, iterations=90, learning_rate=0.1; average_precision: (test=0.513) balanced_accuracy: (test=0.765) f1: (test=0.531) roc_auc: (test=0.816) total time=  13.9s\n",
      "[CV 1/3] END depth=7, iterations=120, learning_rate=0.1; average_precision: (test=0.519) balanced_accuracy: (test=0.756) f1: (test=0.528) roc_auc: (test=0.817) total time=  19.7s\n",
      "[CV 3/3] END depth=7, iterations=140, learning_rate=0.2; average_precision: (test=0.487) balanced_accuracy: (test=0.708) f1: (test=0.498) roc_auc: (test=0.812) total time=  23.0s\n",
      "[CV 2/3] END depth=8, iterations=100, learning_rate=0.1; average_precision: (test=0.516) balanced_accuracy: (test=0.742) f1: (test=0.511) roc_auc: (test=0.829) total time=  24.9s\n",
      "[CV 2/3] END depth=8, iterations=140, learning_rate=0.1; average_precision: (test=0.520) balanced_accuracy: (test=0.727) f1: (test=0.504) roc_auc: (test=0.832) total time=  35.9s\n",
      "[CV 2/3] END depth=12, iterations=90, learning_rate=0.1; average_precision: (test=0.509) balanced_accuracy: (test=0.704) f1: (test=0.494) roc_auc: (test=0.828) total time= 1.1min\n",
      "[CV 3/3] END depth=12, iterations=100, learning_rate=0.2; average_precision: (test=0.466) balanced_accuracy: (test=0.679) f1: (test=0.468) roc_auc: (test=0.820) total time= 1.2min\n",
      "[CV 1/3] END depth=12, iterations=140, learning_rate=0.2; average_precision: (test=0.509) balanced_accuracy: (test=0.695) f1: (test=0.501) roc_auc: (test=0.825) total time= 1.2min\n",
      "[CV 2/3] END depth=6, iterations=90, learning_rate=0.15; average_precision: (test=0.560) balanced_accuracy: (test=0.641) f1: (test=0.553) roc_auc: (test=0.703) total time=  10.0s\n",
      "[CV 1/3] END depth=6, iterations=100, learning_rate=0.1; average_precision: (test=0.607) balanced_accuracy: (test=0.668) f1: (test=0.587) roc_auc: (test=0.738) total time=  11.5s\n",
      "[CV 1/3] END depth=6, iterations=140, learning_rate=0.1; average_precision: (test=0.607) balanced_accuracy: (test=0.675) f1: (test=0.590) roc_auc: (test=0.741) total time=  15.7s\n",
      "[CV 2/3] END depth=7, iterations=80, learning_rate=0.2; average_precision: (test=0.575) balanced_accuracy: (test=0.652) f1: (test=0.555) roc_auc: (test=0.719) total time=   9.4s\n",
      "[CV 3/3] END depth=7, iterations=100, learning_rate=0.1; average_precision: (test=0.589) balanced_accuracy: (test=0.668) f1: (test=0.585) roc_auc: (test=0.743) total time=  16.5s\n",
      "[CV 2/3] END depth=7, iterations=140, learning_rate=0.1; average_precision: (test=0.578) balanced_accuracy: (test=0.650) f1: (test=0.556) roc_auc: (test=0.716) total time=  21.5s\n",
      "[CV 1/3] END depth=8, iterations=90, learning_rate=0.1; average_precision: (test=0.600) balanced_accuracy: (test=0.680) f1: (test=0.593) roc_auc: (test=0.742) total time=  18.1s\n",
      "[CV 3/3] END depth=8, iterations=100, learning_rate=0.2; average_precision: (test=0.620) balanced_accuracy: (test=0.694) f1: (test=0.603) roc_auc: (test=0.753) total time=  19.7s\n",
      "[CV 1/3] END depth=8, iterations=140, learning_rate=0.2; average_precision: (test=0.603) balanced_accuracy: (test=0.672) f1: (test=0.570) roc_auc: (test=0.736) total time=  30.5s\n",
      "[CV 2/3] END depth=12, iterations=90, learning_rate=0.15; average_precision: (test=0.566) balanced_accuracy: (test=0.648) f1: (test=0.537) roc_auc: (test=0.710) total time= 1.1min\n",
      "[CV 3/3] END depth=12, iterations=120, learning_rate=0.1; average_precision: (test=0.612) balanced_accuracy: (test=0.670) f1: (test=0.569) roc_auc: (test=0.745) total time= 1.4min\n",
      "[CV 2/3] END depth=12, iterations=140, learning_rate=0.2; average_precision: (test=0.566) balanced_accuracy: (test=0.647) f1: (test=0.533) roc_auc: (test=0.705) total time=  50.4s\n",
      "[CV 3/3] END depth=12, iterations=100, learning_rate=0.15; average_precision: (test=0.245) balanced_accuracy: (test=0.615) f1: (test=0.262) roc_auc: (test=0.740) total time= 1.1min\n",
      "[CV 1/3] END depth=12, iterations=140, learning_rate=0.15; average_precision: (test=0.200) balanced_accuracy: (test=0.607) f1: (test=0.248) roc_auc: (test=0.770) total time= 1.3min\n",
      "[CV 2/3] END depth=6, iterations=90, learning_rate=0.1; average_precision: (test=0.519) balanced_accuracy: (test=0.748) f1: (test=0.496) roc_auc: (test=0.826) total time=  11.6s\n",
      "[CV 2/3] END depth=6, iterations=120, learning_rate=0.1; average_precision: (test=0.529) balanced_accuracy: (test=0.745) f1: (test=0.501) roc_auc: (test=0.830) total time=  13.5s\n",
      "[CV 1/3] END depth=6, iterations=140, learning_rate=0.2; average_precision: (test=0.521) balanced_accuracy: (test=0.736) f1: (test=0.525) roc_auc: (test=0.818) total time=  15.9s\n",
      "[CV 2/3] END depth=7, iterations=90, learning_rate=0.15; average_precision: (test=0.535) balanced_accuracy: (test=0.758) f1: (test=0.535) roc_auc: (test=0.843) total time=  13.7s\n",
      "[CV 2/3] END depth=7, iterations=120, learning_rate=0.1; average_precision: (test=0.558) balanced_accuracy: (test=0.765) f1: (test=0.539) roc_auc: (test=0.841) total time=  20.2s\n",
      "[CV 3/3] END depth=8, iterations=80, learning_rate=0.1; average_precision: (test=0.499) balanced_accuracy: (test=0.729) f1: (test=0.497) roc_auc: (test=0.818) total time=  16.7s\n",
      "[CV 1/3] END depth=8, iterations=90, learning_rate=0.2; average_precision: (test=0.524) balanced_accuracy: (test=0.728) f1: (test=0.521) roc_auc: (test=0.826) total time=  21.5s\n",
      "[CV 3/3] END depth=8, iterations=120, learning_rate=0.15; average_precision: (test=0.497) balanced_accuracy: (test=0.718) f1: (test=0.504) roc_auc: (test=0.831) total time=  27.5s\n",
      "[CV 1/3] END depth=12, iterations=80, learning_rate=0.15; average_precision: (test=0.511) balanced_accuracy: (test=0.708) f1: (test=0.506) roc_auc: (test=0.814) total time=  57.0s\n",
      "[CV 1/3] END depth=12, iterations=100, learning_rate=0.1; average_precision: (test=0.517) balanced_accuracy: (test=0.716) f1: (test=0.513) roc_auc: (test=0.816) total time= 1.3min\n",
      "[CV 3/3] END depth=12, iterations=120, learning_rate=0.2; average_precision: (test=0.463) balanced_accuracy: (test=0.672) f1: (test=0.458) roc_auc: (test=0.822) total time= 1.3min\n",
      "[CV 1/3] END depth=6, iterations=80, learning_rate=0.2; average_precision: (test=0.610) balanced_accuracy: (test=0.701) f1: (test=0.615) roc_auc: (test=0.747) total time=  10.2s\n",
      "[CV 3/3] END depth=6, iterations=100, learning_rate=0.15; average_precision: (test=0.608) balanced_accuracy: (test=0.682) f1: (test=0.596) roc_auc: (test=0.746) total time=  10.7s\n",
      "[CV 1/3] END depth=6, iterations=120, learning_rate=0.2; average_precision: (test=0.604) balanced_accuracy: (test=0.687) f1: (test=0.597) roc_auc: (test=0.745) total time=  15.3s\n",
      "[CV 3/3] END depth=7, iterations=80, learning_rate=0.15; average_precision: (test=0.581) balanced_accuracy: (test=0.674) f1: (test=0.587) roc_auc: (test=0.740) total time=  11.6s\n",
      "[CV 2/3] END depth=7, iterations=100, learning_rate=0.15; average_precision: (test=0.569) balanced_accuracy: (test=0.646) f1: (test=0.548) roc_auc: (test=0.708) total time=  15.0s\n",
      "[CV 1/3] END depth=7, iterations=140, learning_rate=0.1; average_precision: (test=0.611) balanced_accuracy: (test=0.681) f1: (test=0.591) roc_auc: (test=0.745) total time=  21.6s\n",
      "[CV 3/3] END depth=8, iterations=80, learning_rate=0.2; average_precision: (test=0.606) balanced_accuracy: (test=0.690) f1: (test=0.599) roc_auc: (test=0.750) total time=  17.1s\n",
      "[CV 3/3] END depth=8, iterations=100, learning_rate=0.15; average_precision: (test=0.601) balanced_accuracy: (test=0.686) f1: (test=0.594) roc_auc: (test=0.746) total time=  19.3s\n",
      "[CV 2/3] END depth=8, iterations=140, learning_rate=0.15; average_precision: (test=0.565) balanced_accuracy: (test=0.653) f1: (test=0.549) roc_auc: (test=0.714) total time=  27.6s\n",
      "[CV 2/3] END depth=12, iterations=90, learning_rate=0.1; average_precision: (test=0.567) balanced_accuracy: (test=0.662) f1: (test=0.560) roc_auc: (test=0.718) total time= 1.1min\n",
      "[CV 1/3] END depth=12, iterations=120, learning_rate=0.1; average_precision: (test=0.598) balanced_accuracy: (test=0.666) f1: (test=0.561) roc_auc: (test=0.740) total time= 1.5min\n",
      "[CV 3/3] END depth=12, iterations=140, learning_rate=0.2; average_precision: (test=0.616) balanced_accuracy: (test=0.678) f1: (test=0.576) roc_auc: (test=0.742) total time=  49.9s\n"
     ]
    }
   ],
   "source": [
    "from sklearn.model_selection import train_test_split\n",
    "from sklearn.naive_bayes import GaussianNB\n",
    "from sklearn.linear_model import LogisticRegression\n",
    "from sklearn.metrics import average_precision_score, roc_auc_score, f1_score\n",
    "from sklearn.metrics import ConfusionMatrixDisplay\n",
    "from sklearn.model_selection import GridSearchCV\n",
    "\n",
    "parameters = {'depth' : [6,7,8,12],\n",
    "              'learning_rate' : [0.1,.15,.2],\n",
    "              'iterations'    : [80,90,100,120,140],\n",
    "              }\n",
    "grid = {}\n",
    "for k,v in df_xx_d.items():\n",
    "    model = cb.CatBoostClassifier(loss_function = 'Logloss', \n",
    "                            simple_ctr='Counter',\n",
    "                            combinations_ctr='Counter',\n",
    "                            cat_features=['indication'],\n",
    "                            class_weights=[1.0,c_weight[k]],\n",
    "                            verbose=0)\n",
    "    grid[k] = GridSearchCV(estimator=model, \n",
    "                        param_grid = parameters, \n",
    "                        cv = 3, \n",
    "                        n_jobs=-1, \n",
    "                        verbose=3,\n",
    "                       #scoring='f1'\n",
    "                        scoring=['f1','balanced_accuracy','average_precision','roc_auc'],\n",
    "                        refit=False\n",
    "                       )\n",
    "    grid[k].fit(df_xx_d[k],df_yy_d[k])"
   ]
  },
  {
   "cell_type": "code",
   "execution_count": null,
   "metadata": {},
   "outputs": [],
   "source": [
    "#!conda run -n maplight pip install tabulate\n",
    "from tabulate import tabulate\n",
    "from collections import defaultdict\n",
    "data = defaultdict(list)\n",
    "phases = ['passed_phase_1','passed_phase_2','passed_phase_3']\n",
    "mets = ['mean_test_f1','mean_test_average_precision','mean_test_roc_auc','mean_test_balanced_accuracy']\n",
    "data['metric']=mets\n",
    "for j in phases:\n",
    "    for k in mets:\n",
    "        data[j].append(pd.DataFrame(grid[j].cv_results_).sort_values(k,ascending=False)[k].head(1).values)\n",
    "print(data)\n",
    "tabulate(data,tablefmt='html', headers = data.keys())"
   ]
  },
  {
   "cell_type": "code",
   "execution_count": null,
   "metadata": {},
   "outputs": [],
   "source": [
    "from sklearn.model_selection import train_test_split\n",
    "from sklearn.naive_bayes import GaussianNB\n",
    "from sklearn.linear_model import LogisticRegression\n",
    "from sklearn.metrics import average_precision_score, roc_auc_score, f1_score\n",
    "from sklearn.metrics import ConfusionMatrixDisplay\n",
    "from sklearn.model_selection import GridSearchCV\n",
    "X_train, X_test, y_train, y_test = train_test_split(X, y, test_size=0.1, random_state=r)\n",
    "#X_train, X_test, y_train, y_test = train_test_split(df_x, df_y, test_size=0.1, random_state=r)\n",
    "model = GaussianNB()\n",
    "#s_weights = [c_weight if x == 1 else 1.0 for x in y_train ]\n",
    "\n",
    "\n",
    "parameters = {\n",
    "    'var_smoothing': np.logspace(1,-3, num=100)\n",
    "}\n",
    "\n",
    "grid = GridSearchCV(estimator=model, \n",
    "                    param_grid = parameters, \n",
    "                    cv = 5, \n",
    "                    n_jobs=-1, \n",
    "                    verbose=3,\n",
    "                   scoring='f1')\n",
    "grid.fit(X_train,y_train)"
   ]
  },
  {
   "cell_type": "code",
   "execution_count": null,
   "metadata": {},
   "outputs": [],
   "source": []
  },
  {
   "cell_type": "code",
   "execution_count": null,
   "metadata": {},
   "outputs": [],
   "source": [
    "from sklearn.model_selection import train_test_split\n",
    "from sklearn.naive_bayes import GaussianNB\n",
    "from sklearn.linear_model import LogisticRegression\n",
    "from sklearn.metrics import average_precision_score, roc_auc_score, f1_score\n",
    "from sklearn.metrics import ConfusionMatrixDisplay\n",
    "from sklearn.model_selection import GridSearchCV\n",
    "from fastFM import sgd\n",
    "fm = sgd.FMClassification(n_iter=1000, init_stdev=0.1, l2_reg_w=0,\n",
    "                          l2_reg_V=0, rank=2, step_size=0.1)\n",
    "\n",
    "X_train, X_test, y_train, y_test = train_test_split(X, y, test_size=0.1, random_state=r)\n",
    "#X_train, X_test, y_train, y_test = train_test_split(df_x, df_y, test_size=0.1, random_state=r)\n",
    "#model = GaussianNB()\n",
    "#s_weights = [c_weight if x == 1 else 1.0 for x in y_train ]\n",
    "y_labels = np.ones_like(y_train)\n",
    "y_labels[y_train == 0 ] = -1\n",
    "y_train=y_labels\n",
    "fm.fit(X_train, y_train)\n",
    "y_pred = fm.predict(X_test)"
   ]
  },
  {
   "cell_type": "code",
   "execution_count": null,
   "metadata": {},
   "outputs": [],
   "source": [
    "pd.DataFrame(grid.cv_results_).sort_values('rank_test_score')"
   ]
  },
  {
   "cell_type": "code",
   "execution_count": null,
   "metadata": {},
   "outputs": [],
   "source": [
    "from sklearn.model_selection import KFold, cross_val_score\n",
    "k_fold = KFold(n_splits=10, shuffle=True, random_state=5)\n",
    "clf = GaussianNB()\n",
    "#clf = LogisticRegression()\n",
    "print(f\"roc: {cross_val_score(clf, X, y, cv=k_fold, n_jobs=1, scoring='roc_auc').mean()}\")\n",
    "print(f\"f1: {cross_val_score(clf, X, y, cv=k_fold, n_jobs=1, scoring='f1').mean()}\")\n",
    "print(f\"ap: {cross_val_score(clf, X, y, cv=k_fold, n_jobs=1, scoring='average_precision').mean()}\")\n"
   ]
  },
  {
   "cell_type": "code",
   "execution_count": null,
   "metadata": {},
   "outputs": [],
   "source": [
    "from sklearn.model_selection import KFold, cross_val_score\n",
    "k_fold = KFold(n_splits=10, shuffle=True, random_state=5)\n",
    "#clf = GaussianNB()\n",
    "clf = LogisticRegression()\n",
    "print(f\"roc: {cross_val_score(clf, X, y, cv=k_fold, n_jobs=1, scoring='roc_auc').mean()}\")\n",
    "print(f\"f1: {cross_val_score(clf, X, y, cv=k_fold, n_jobs=1, scoring='f1').mean()}\")\n",
    "print(f\"ap: {cross_val_score(clf, X, y, cv=k_fold, n_jobs=1, scoring='average_precision').mean()}\")"
   ]
  },
  {
   "cell_type": "code",
   "execution_count": null,
   "metadata": {},
   "outputs": [],
   "source": [
    "from sklearn.inspection import permutation_importance\n",
    "from sklearn.naive_bayes import GaussianNB\n",
    "from sklearn.model_selection import train_test_split\n",
    "\n",
    "imps_test = permutation_importance(gnb, X_test, y_test, n_repeats=30)\n",
    "print(imps_test.importances_mean)\n",
    "imps_train = permutation_importance(gnb, X_train, y_train, n_repeats=30)\n",
    "print(imps_train.importances_mean)"
   ]
  },
  {
   "cell_type": "code",
   "execution_count": null,
   "metadata": {},
   "outputs": [],
   "source": [
    "def plot_permutation_importance(clf, X, y, ax):\n",
    "    result = permutation_importance(clf, X, y, n_repeats=100, random_state=42, scoring='f1')#, n_jobs=2)\n",
    "    perm_sorted_idx = result.importances_mean.argsort()\n",
    "\n",
    "    ax.boxplot(\n",
    "        result.importances[perm_sorted_idx].T,\n",
    "        vert=False,\n",
    "        labels=X.columns[perm_sorted_idx],\n",
    "    )\n",
    "    ax.axvline(x=0, color=\"k\", linestyle=\"--\")\n",
    "    return ax"
   ]
  },
  {
   "cell_type": "code",
   "execution_count": null,
   "metadata": {},
   "outputs": [],
   "source": [
    "import matplotlib.pyplot as plt\n",
    "fig, ax = plt.subplots(figsize = (5,15))\n",
    "_ = plot_permutation_importance(gnb, X_test, y_test, ax)\n",
    "#print(print(f\"Baseline accuracy on test data: {gnb.score(X_train, y_train):.2}\"))"
   ]
  },
  {
   "cell_type": "code",
   "execution_count": null,
   "metadata": {},
   "outputs": [],
   "source": [
    "fig, ax = plt.subplots(figsize = (5, 15))\n",
    "_ = plot_permutation_importance(gnb, X_train, y_train, ax)\n",
    "ax.set_xlabel(r'$\\longleftarrow$ Importance')"
   ]
  },
  {
   "cell_type": "code",
   "execution_count": null,
   "metadata": {},
   "outputs": [],
   "source": []
  },
  {
   "cell_type": "code",
   "execution_count": null,
   "metadata": {},
   "outputs": [],
   "source": []
  }
 ],
 "metadata": {
  "kernelspec": {
   "display_name": "maplight",
   "language": "python",
   "name": "maplight"
  },
  "language_info": {
   "codemirror_mode": {
    "name": "ipython",
    "version": 3
   },
   "file_extension": ".py",
   "mimetype": "text/x-python",
   "name": "python",
   "nbconvert_exporter": "python",
   "pygments_lexer": "ipython3",
   "version": "3.10.14"
  }
 },
 "nbformat": 4,
 "nbformat_minor": 2
}
